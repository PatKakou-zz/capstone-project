{
 "cells": [
  {
   "cell_type": "markdown",
   "metadata": {},
   "source": [
    "# Case Description - Titanic\n",
    "\n",
    "*This case study is from Kaggle website to Predict survival on the Titanic and get familiar with Machine Learning (ML) basics.*\n",
    "\n",
    "On April 15, 1912, during her maiden voyage, the Titanic sank after colliding with an iceberg, killing 1502 out of 2224 passengers and crew. This sensational tragedy shocked the international community and led to better safety regulations for ships.\n",
    "\n",
    "One of the reasons that the shipwreck led to such loss of life was that there were not enough lifeboats for the passengers and crew. Although there was some element of luck involved in surviving the sinking, some groups of people were more likely to survive than others, such as women, children, and the upper-class.\n",
    "\n",
    "In this case study, we will analyze what sorts of people were likely to survive. To do so, we will apply some tools of machine learning to predict which passengers survived the tragedy.\n",
    "\n"
   ]
  },
  {
   "cell_type": "code",
   "execution_count": 1,
   "metadata": {},
   "outputs": [],
   "source": [
    "# Let import some important packages\n",
    "import pandas as pd # the name is derived from the term \"panel data\", it's a software library for data manipulation and analysis\n",
    "import numpy as np # creating and manipulating numerical data\n",
    "import matplotlib.pyplot as plt # plotting library\n",
    "import seaborn as sns # library based on matplotlib, high-level interface for drawing attractive statistical graphics\n",
    "sns.set()\n",
    "% matplotlib inline"
   ]
  },
  {
   "cell_type": "code",
   "execution_count": 2,
   "metadata": {},
   "outputs": [],
   "source": [
    "plt.rcParams['figure.figsize'] = (12,8)\n",
    "%config InlineBackend.figure_format = 'retina'"
   ]
  },
  {
   "cell_type": "markdown",
   "metadata": {},
   "source": [
    "#### Display Website"
   ]
  },
  {
   "cell_type": "code",
   "execution_count": 12,
   "metadata": {},
   "outputs": [
    {
     "data": {
      "text/html": [
       "\n",
       "        <iframe\n",
       "            width=\"800\"\n",
       "            height=\"350\"\n",
       "            src=\"https://www.torontorentals.com/toronto\"\n",
       "            frameborder=\"0\"\n",
       "            allowfullscreen\n",
       "        ></iframe>\n",
       "        "
      ],
      "text/plain": [
       "<IPython.lib.display.IFrame at 0x199fe08bf28>"
      ]
     },
     "execution_count": 12,
     "metadata": {},
     "output_type": "execute_result"
    }
   ],
   "source": [
    "from IPython.display import IFrame\n",
    "IFrame(\"https://www.torontorentals.com/toronto\", width = 800, height = 350)"
   ]
  },
  {
   "cell_type": "code",
   "execution_count": 20,
   "metadata": {},
   "outputs": [
    {
     "name": "stderr",
     "output_type": "stream",
     "text": [
      "UsageError: Line magic function `%install_ext` not found.\n"
     ]
    }
   ],
   "source": [
    "%install_ext http://raw.github.com/jrjohansson/version_information/master/version_information\n",
    "%load_ext version_information\n",
    "%version_information numpy, scipy, matplotlib, pandas"
   ]
  },
  {
   "cell_type": "code",
   "execution_count": 17,
   "metadata": {},
   "outputs": [
    {
     "ename": "AttributeError",
     "evalue": "module 'qgrid' has no attribute 'nbinstall'",
     "output_type": "error",
     "traceback": [
      "\u001b[1;31m---------------------------------------------------------------------------\u001b[0m",
      "\u001b[1;31mAttributeError\u001b[0m                            Traceback (most recent call last)",
      "\u001b[1;32m<ipython-input-17-0817e2ba9bd0>\u001b[0m in \u001b[0;36m<module>\u001b[1;34m()\u001b[0m\n\u001b[0;32m      1\u001b[0m \u001b[1;32mimport\u001b[0m \u001b[0mqgrid\u001b[0m\u001b[1;33m\u001b[0m\u001b[0m\n\u001b[1;32m----> 2\u001b[1;33m \u001b[0mqgrid\u001b[0m\u001b[1;33m.\u001b[0m\u001b[0mnbinstall\u001b[0m\u001b[1;33m(\u001b[0m\u001b[0moverwrite\u001b[0m \u001b[1;33m=\u001b[0m \u001b[1;32mTrue\u001b[0m\u001b[1;33m)\u001b[0m\u001b[1;33m\u001b[0m\u001b[0m\n\u001b[0m\u001b[0;32m      3\u001b[0m \u001b[1;31m#qgrid.show_grid(df[['col1', 'col2', 'col3']], remote.js = True)\u001b[0m\u001b[1;33m\u001b[0m\u001b[1;33m\u001b[0m\u001b[0m\n",
      "\u001b[1;31mAttributeError\u001b[0m: module 'qgrid' has no attribute 'nbinstall'"
     ]
    }
   ],
   "source": [
    "import qgrid\n",
    "qgrid.nbinstall(overwrite = True)\n",
    "#qgrid.show_grid(df[['col1', 'col2', 'col3']], remote.js = True)"
   ]
  },
  {
   "cell_type": "markdown",
   "metadata": {},
   "source": [
    "# Loading the data \n",
    "\n",
    "Data has been split in 2 for training purpose"
   ]
  },
  {
   "cell_type": "code",
   "execution_count": 2,
   "metadata": {},
   "outputs": [],
   "source": [
    "train = pd.read_csv('train.csv')\n",
    "test = pd.read_csv('test.csv')"
   ]
  },
  {
   "cell_type": "markdown",
   "metadata": {},
   "source": [
    "# Let explore the data"
   ]
  },
  {
   "cell_type": "code",
   "execution_count": 3,
   "metadata": {},
   "outputs": [
    {
     "data": {
      "text/html": [
       "<div>\n",
       "<style scoped>\n",
       "    .dataframe tbody tr th:only-of-type {\n",
       "        vertical-align: middle;\n",
       "    }\n",
       "\n",
       "    .dataframe tbody tr th {\n",
       "        vertical-align: top;\n",
       "    }\n",
       "\n",
       "    .dataframe thead th {\n",
       "        text-align: right;\n",
       "    }\n",
       "</style>\n",
       "<table border=\"1\" class=\"dataframe\">\n",
       "  <thead>\n",
       "    <tr style=\"text-align: right;\">\n",
       "      <th></th>\n",
       "      <th>PassengerId</th>\n",
       "      <th>Survived</th>\n",
       "      <th>Pclass</th>\n",
       "      <th>Name</th>\n",
       "      <th>Sex</th>\n",
       "      <th>Age</th>\n",
       "      <th>SibSp</th>\n",
       "      <th>Parch</th>\n",
       "      <th>Ticket</th>\n",
       "      <th>Fare</th>\n",
       "      <th>Cabin</th>\n",
       "      <th>Embarked</th>\n",
       "    </tr>\n",
       "  </thead>\n",
       "  <tbody>\n",
       "    <tr>\n",
       "      <th>0</th>\n",
       "      <td>1</td>\n",
       "      <td>0</td>\n",
       "      <td>3</td>\n",
       "      <td>Braund, Mr. Owen Harris</td>\n",
       "      <td>male</td>\n",
       "      <td>22.0</td>\n",
       "      <td>1</td>\n",
       "      <td>0</td>\n",
       "      <td>A/5 21171</td>\n",
       "      <td>7.2500</td>\n",
       "      <td>NaN</td>\n",
       "      <td>S</td>\n",
       "    </tr>\n",
       "    <tr>\n",
       "      <th>1</th>\n",
       "      <td>2</td>\n",
       "      <td>1</td>\n",
       "      <td>1</td>\n",
       "      <td>Cumings, Mrs. John Bradley (Florence Briggs Th...</td>\n",
       "      <td>female</td>\n",
       "      <td>38.0</td>\n",
       "      <td>1</td>\n",
       "      <td>0</td>\n",
       "      <td>PC 17599</td>\n",
       "      <td>71.2833</td>\n",
       "      <td>C85</td>\n",
       "      <td>C</td>\n",
       "    </tr>\n",
       "    <tr>\n",
       "      <th>2</th>\n",
       "      <td>3</td>\n",
       "      <td>1</td>\n",
       "      <td>3</td>\n",
       "      <td>Heikkinen, Miss. Laina</td>\n",
       "      <td>female</td>\n",
       "      <td>26.0</td>\n",
       "      <td>0</td>\n",
       "      <td>0</td>\n",
       "      <td>STON/O2. 3101282</td>\n",
       "      <td>7.9250</td>\n",
       "      <td>NaN</td>\n",
       "      <td>S</td>\n",
       "    </tr>\n",
       "    <tr>\n",
       "      <th>3</th>\n",
       "      <td>4</td>\n",
       "      <td>1</td>\n",
       "      <td>1</td>\n",
       "      <td>Futrelle, Mrs. Jacques Heath (Lily May Peel)</td>\n",
       "      <td>female</td>\n",
       "      <td>35.0</td>\n",
       "      <td>1</td>\n",
       "      <td>0</td>\n",
       "      <td>113803</td>\n",
       "      <td>53.1000</td>\n",
       "      <td>C123</td>\n",
       "      <td>S</td>\n",
       "    </tr>\n",
       "    <tr>\n",
       "      <th>4</th>\n",
       "      <td>5</td>\n",
       "      <td>0</td>\n",
       "      <td>3</td>\n",
       "      <td>Allen, Mr. William Henry</td>\n",
       "      <td>male</td>\n",
       "      <td>35.0</td>\n",
       "      <td>0</td>\n",
       "      <td>0</td>\n",
       "      <td>373450</td>\n",
       "      <td>8.0500</td>\n",
       "      <td>NaN</td>\n",
       "      <td>S</td>\n",
       "    </tr>\n",
       "  </tbody>\n",
       "</table>\n",
       "</div>"
      ],
      "text/plain": [
       "   PassengerId  Survived  Pclass  \\\n",
       "0            1         0       3   \n",
       "1            2         1       1   \n",
       "2            3         1       3   \n",
       "3            4         1       1   \n",
       "4            5         0       3   \n",
       "\n",
       "                                                Name     Sex   Age  SibSp  \\\n",
       "0                            Braund, Mr. Owen Harris    male  22.0      1   \n",
       "1  Cumings, Mrs. John Bradley (Florence Briggs Th...  female  38.0      1   \n",
       "2                             Heikkinen, Miss. Laina  female  26.0      0   \n",
       "3       Futrelle, Mrs. Jacques Heath (Lily May Peel)  female  35.0      1   \n",
       "4                           Allen, Mr. William Henry    male  35.0      0   \n",
       "\n",
       "   Parch            Ticket     Fare Cabin Embarked  \n",
       "0      0         A/5 21171   7.2500   NaN        S  \n",
       "1      0          PC 17599  71.2833   C85        C  \n",
       "2      0  STON/O2. 3101282   7.9250   NaN        S  \n",
       "3      0            113803  53.1000  C123        S  \n",
       "4      0            373450   8.0500   NaN        S  "
      ]
     },
     "execution_count": 3,
     "metadata": {},
     "output_type": "execute_result"
    }
   ],
   "source": [
    "# How do our data first rows look like?\n",
    "train.head() "
   ]
  },
  {
   "cell_type": "code",
   "execution_count": 4,
   "metadata": {},
   "outputs": [
    {
     "data": {
      "text/html": [
       "<div>\n",
       "<style scoped>\n",
       "    .dataframe tbody tr th:only-of-type {\n",
       "        vertical-align: middle;\n",
       "    }\n",
       "\n",
       "    .dataframe tbody tr th {\n",
       "        vertical-align: top;\n",
       "    }\n",
       "\n",
       "    .dataframe thead th {\n",
       "        text-align: right;\n",
       "    }\n",
       "</style>\n",
       "<table border=\"1\" class=\"dataframe\">\n",
       "  <thead>\n",
       "    <tr style=\"text-align: right;\">\n",
       "      <th></th>\n",
       "      <th>PassengerId</th>\n",
       "      <th>Pclass</th>\n",
       "      <th>Name</th>\n",
       "      <th>Sex</th>\n",
       "      <th>Age</th>\n",
       "      <th>SibSp</th>\n",
       "      <th>Parch</th>\n",
       "      <th>Ticket</th>\n",
       "      <th>Fare</th>\n",
       "      <th>Cabin</th>\n",
       "      <th>Embarked</th>\n",
       "    </tr>\n",
       "  </thead>\n",
       "  <tbody>\n",
       "    <tr>\n",
       "      <th>0</th>\n",
       "      <td>892</td>\n",
       "      <td>3</td>\n",
       "      <td>Kelly, Mr. James</td>\n",
       "      <td>male</td>\n",
       "      <td>34.5</td>\n",
       "      <td>0</td>\n",
       "      <td>0</td>\n",
       "      <td>330911</td>\n",
       "      <td>7.8292</td>\n",
       "      <td>NaN</td>\n",
       "      <td>Q</td>\n",
       "    </tr>\n",
       "    <tr>\n",
       "      <th>1</th>\n",
       "      <td>893</td>\n",
       "      <td>3</td>\n",
       "      <td>Wilkes, Mrs. James (Ellen Needs)</td>\n",
       "      <td>female</td>\n",
       "      <td>47.0</td>\n",
       "      <td>1</td>\n",
       "      <td>0</td>\n",
       "      <td>363272</td>\n",
       "      <td>7.0000</td>\n",
       "      <td>NaN</td>\n",
       "      <td>S</td>\n",
       "    </tr>\n",
       "    <tr>\n",
       "      <th>2</th>\n",
       "      <td>894</td>\n",
       "      <td>2</td>\n",
       "      <td>Myles, Mr. Thomas Francis</td>\n",
       "      <td>male</td>\n",
       "      <td>62.0</td>\n",
       "      <td>0</td>\n",
       "      <td>0</td>\n",
       "      <td>240276</td>\n",
       "      <td>9.6875</td>\n",
       "      <td>NaN</td>\n",
       "      <td>Q</td>\n",
       "    </tr>\n",
       "    <tr>\n",
       "      <th>3</th>\n",
       "      <td>895</td>\n",
       "      <td>3</td>\n",
       "      <td>Wirz, Mr. Albert</td>\n",
       "      <td>male</td>\n",
       "      <td>27.0</td>\n",
       "      <td>0</td>\n",
       "      <td>0</td>\n",
       "      <td>315154</td>\n",
       "      <td>8.6625</td>\n",
       "      <td>NaN</td>\n",
       "      <td>S</td>\n",
       "    </tr>\n",
       "    <tr>\n",
       "      <th>4</th>\n",
       "      <td>896</td>\n",
       "      <td>3</td>\n",
       "      <td>Hirvonen, Mrs. Alexander (Helga E Lindqvist)</td>\n",
       "      <td>female</td>\n",
       "      <td>22.0</td>\n",
       "      <td>1</td>\n",
       "      <td>1</td>\n",
       "      <td>3101298</td>\n",
       "      <td>12.2875</td>\n",
       "      <td>NaN</td>\n",
       "      <td>S</td>\n",
       "    </tr>\n",
       "  </tbody>\n",
       "</table>\n",
       "</div>"
      ],
      "text/plain": [
       "   PassengerId  Pclass                                          Name     Sex  \\\n",
       "0          892       3                              Kelly, Mr. James    male   \n",
       "1          893       3              Wilkes, Mrs. James (Ellen Needs)  female   \n",
       "2          894       2                     Myles, Mr. Thomas Francis    male   \n",
       "3          895       3                              Wirz, Mr. Albert    male   \n",
       "4          896       3  Hirvonen, Mrs. Alexander (Helga E Lindqvist)  female   \n",
       "\n",
       "    Age  SibSp  Parch   Ticket     Fare Cabin Embarked  \n",
       "0  34.5      0      0   330911   7.8292   NaN        Q  \n",
       "1  47.0      1      0   363272   7.0000   NaN        S  \n",
       "2  62.0      0      0   240276   9.6875   NaN        Q  \n",
       "3  27.0      0      0   315154   8.6625   NaN        S  \n",
       "4  22.0      1      1  3101298  12.2875   NaN        S  "
      ]
     },
     "execution_count": 4,
     "metadata": {},
     "output_type": "execute_result"
    }
   ],
   "source": [
    "# What is the difference between train & test data? take a look.\n",
    "test.head()"
   ]
  },
  {
   "cell_type": "code",
   "execution_count": 5,
   "metadata": {},
   "outputs": [
    {
     "data": {
      "text/html": [
       "<div>\n",
       "<style scoped>\n",
       "    .dataframe tbody tr th:only-of-type {\n",
       "        vertical-align: middle;\n",
       "    }\n",
       "\n",
       "    .dataframe tbody tr th {\n",
       "        vertical-align: top;\n",
       "    }\n",
       "\n",
       "    .dataframe thead th {\n",
       "        text-align: right;\n",
       "    }\n",
       "</style>\n",
       "<table border=\"1\" class=\"dataframe\">\n",
       "  <thead>\n",
       "    <tr style=\"text-align: right;\">\n",
       "      <th></th>\n",
       "      <th>PassengerId</th>\n",
       "      <th>Survived</th>\n",
       "      <th>Pclass</th>\n",
       "      <th>Age</th>\n",
       "      <th>SibSp</th>\n",
       "      <th>Parch</th>\n",
       "      <th>Fare</th>\n",
       "    </tr>\n",
       "  </thead>\n",
       "  <tbody>\n",
       "    <tr>\n",
       "      <th>count</th>\n",
       "      <td>891.000000</td>\n",
       "      <td>891.000000</td>\n",
       "      <td>891.000000</td>\n",
       "      <td>714.000000</td>\n",
       "      <td>891.000000</td>\n",
       "      <td>891.000000</td>\n",
       "      <td>891.000000</td>\n",
       "    </tr>\n",
       "    <tr>\n",
       "      <th>mean</th>\n",
       "      <td>446.000000</td>\n",
       "      <td>0.383838</td>\n",
       "      <td>2.308642</td>\n",
       "      <td>29.699118</td>\n",
       "      <td>0.523008</td>\n",
       "      <td>0.381594</td>\n",
       "      <td>32.204208</td>\n",
       "    </tr>\n",
       "    <tr>\n",
       "      <th>std</th>\n",
       "      <td>257.353842</td>\n",
       "      <td>0.486592</td>\n",
       "      <td>0.836071</td>\n",
       "      <td>14.526497</td>\n",
       "      <td>1.102743</td>\n",
       "      <td>0.806057</td>\n",
       "      <td>49.693429</td>\n",
       "    </tr>\n",
       "    <tr>\n",
       "      <th>min</th>\n",
       "      <td>1.000000</td>\n",
       "      <td>0.000000</td>\n",
       "      <td>1.000000</td>\n",
       "      <td>0.420000</td>\n",
       "      <td>0.000000</td>\n",
       "      <td>0.000000</td>\n",
       "      <td>0.000000</td>\n",
       "    </tr>\n",
       "    <tr>\n",
       "      <th>25%</th>\n",
       "      <td>223.500000</td>\n",
       "      <td>0.000000</td>\n",
       "      <td>2.000000</td>\n",
       "      <td>20.125000</td>\n",
       "      <td>0.000000</td>\n",
       "      <td>0.000000</td>\n",
       "      <td>7.910400</td>\n",
       "    </tr>\n",
       "    <tr>\n",
       "      <th>50%</th>\n",
       "      <td>446.000000</td>\n",
       "      <td>0.000000</td>\n",
       "      <td>3.000000</td>\n",
       "      <td>28.000000</td>\n",
       "      <td>0.000000</td>\n",
       "      <td>0.000000</td>\n",
       "      <td>14.454200</td>\n",
       "    </tr>\n",
       "    <tr>\n",
       "      <th>75%</th>\n",
       "      <td>668.500000</td>\n",
       "      <td>1.000000</td>\n",
       "      <td>3.000000</td>\n",
       "      <td>38.000000</td>\n",
       "      <td>1.000000</td>\n",
       "      <td>0.000000</td>\n",
       "      <td>31.000000</td>\n",
       "    </tr>\n",
       "    <tr>\n",
       "      <th>max</th>\n",
       "      <td>891.000000</td>\n",
       "      <td>1.000000</td>\n",
       "      <td>3.000000</td>\n",
       "      <td>80.000000</td>\n",
       "      <td>8.000000</td>\n",
       "      <td>6.000000</td>\n",
       "      <td>512.329200</td>\n",
       "    </tr>\n",
       "  </tbody>\n",
       "</table>\n",
       "</div>"
      ],
      "text/plain": [
       "       PassengerId    Survived      Pclass         Age       SibSp  \\\n",
       "count   891.000000  891.000000  891.000000  714.000000  891.000000   \n",
       "mean    446.000000    0.383838    2.308642   29.699118    0.523008   \n",
       "std     257.353842    0.486592    0.836071   14.526497    1.102743   \n",
       "min       1.000000    0.000000    1.000000    0.420000    0.000000   \n",
       "25%     223.500000    0.000000    2.000000   20.125000    0.000000   \n",
       "50%     446.000000    0.000000    3.000000   28.000000    0.000000   \n",
       "75%     668.500000    1.000000    3.000000   38.000000    1.000000   \n",
       "max     891.000000    1.000000    3.000000   80.000000    8.000000   \n",
       "\n",
       "            Parch        Fare  \n",
       "count  891.000000  891.000000  \n",
       "mean     0.381594   32.204208  \n",
       "std      0.806057   49.693429  \n",
       "min      0.000000    0.000000  \n",
       "25%      0.000000    7.910400  \n",
       "50%      0.000000   14.454200  \n",
       "75%      0.000000   31.000000  \n",
       "max      6.000000  512.329200  "
      ]
     },
     "execution_count": 5,
     "metadata": {},
     "output_type": "execute_result"
    }
   ],
   "source": [
    "# let get some statistical insights through the numerical data\n",
    "train.describe()"
   ]
  },
  {
   "cell_type": "code",
   "execution_count": 6,
   "metadata": {},
   "outputs": [
    {
     "name": "stdout",
     "output_type": "stream",
     "text": [
      "<class 'pandas.core.frame.DataFrame'>\n",
      "RangeIndex: 891 entries, 0 to 890\n",
      "Data columns (total 12 columns):\n",
      "PassengerId    891 non-null int64\n",
      "Survived       891 non-null int64\n",
      "Pclass         891 non-null int64\n",
      "Name           891 non-null object\n",
      "Sex            891 non-null object\n",
      "Age            714 non-null float64\n",
      "SibSp          891 non-null int64\n",
      "Parch          891 non-null int64\n",
      "Ticket         891 non-null object\n",
      "Fare           891 non-null float64\n",
      "Cabin          204 non-null object\n",
      "Embarked       889 non-null object\n",
      "dtypes: float64(2), int64(5), object(5)\n",
      "memory usage: 83.6+ KB\n"
     ]
    }
   ],
   "source": [
    "train.info()"
   ]
  },
  {
   "cell_type": "code",
   "execution_count": 7,
   "metadata": {},
   "outputs": [
    {
     "name": "stdout",
     "output_type": "stream",
     "text": [
      "<class 'pandas.core.frame.DataFrame'>\n",
      "RangeIndex: 418 entries, 0 to 417\n",
      "Data columns (total 11 columns):\n",
      "PassengerId    418 non-null int64\n",
      "Pclass         418 non-null int64\n",
      "Name           418 non-null object\n",
      "Sex            418 non-null object\n",
      "Age            332 non-null float64\n",
      "SibSp          418 non-null int64\n",
      "Parch          418 non-null int64\n",
      "Ticket         418 non-null object\n",
      "Fare           417 non-null float64\n",
      "Cabin          91 non-null object\n",
      "Embarked       418 non-null object\n",
      "dtypes: float64(2), int64(4), object(5)\n",
      "memory usage: 36.0+ KB\n"
     ]
    }
   ],
   "source": [
    "test.info()"
   ]
  },
  {
   "cell_type": "code",
   "execution_count": 8,
   "metadata": {},
   "outputs": [
    {
     "data": {
      "text/html": [
       "<div>\n",
       "<style scoped>\n",
       "    .dataframe tbody tr th:only-of-type {\n",
       "        vertical-align: middle;\n",
       "    }\n",
       "\n",
       "    .dataframe tbody tr th {\n",
       "        vertical-align: top;\n",
       "    }\n",
       "\n",
       "    .dataframe thead th {\n",
       "        text-align: right;\n",
       "    }\n",
       "</style>\n",
       "<table border=\"1\" class=\"dataframe\">\n",
       "  <thead>\n",
       "    <tr style=\"text-align: right;\">\n",
       "      <th></th>\n",
       "      <th>PassengerId</th>\n",
       "      <th>Pclass</th>\n",
       "      <th>Age</th>\n",
       "      <th>SibSp</th>\n",
       "      <th>Parch</th>\n",
       "      <th>Fare</th>\n",
       "    </tr>\n",
       "  </thead>\n",
       "  <tbody>\n",
       "    <tr>\n",
       "      <th>count</th>\n",
       "      <td>418.000000</td>\n",
       "      <td>418.000000</td>\n",
       "      <td>332.000000</td>\n",
       "      <td>418.000000</td>\n",
       "      <td>418.000000</td>\n",
       "      <td>417.000000</td>\n",
       "    </tr>\n",
       "    <tr>\n",
       "      <th>mean</th>\n",
       "      <td>1100.500000</td>\n",
       "      <td>2.265550</td>\n",
       "      <td>30.272590</td>\n",
       "      <td>0.447368</td>\n",
       "      <td>0.392344</td>\n",
       "      <td>35.627188</td>\n",
       "    </tr>\n",
       "    <tr>\n",
       "      <th>std</th>\n",
       "      <td>120.810458</td>\n",
       "      <td>0.841838</td>\n",
       "      <td>14.181209</td>\n",
       "      <td>0.896760</td>\n",
       "      <td>0.981429</td>\n",
       "      <td>55.907576</td>\n",
       "    </tr>\n",
       "    <tr>\n",
       "      <th>min</th>\n",
       "      <td>892.000000</td>\n",
       "      <td>1.000000</td>\n",
       "      <td>0.170000</td>\n",
       "      <td>0.000000</td>\n",
       "      <td>0.000000</td>\n",
       "      <td>0.000000</td>\n",
       "    </tr>\n",
       "    <tr>\n",
       "      <th>25%</th>\n",
       "      <td>996.250000</td>\n",
       "      <td>1.000000</td>\n",
       "      <td>21.000000</td>\n",
       "      <td>0.000000</td>\n",
       "      <td>0.000000</td>\n",
       "      <td>7.895800</td>\n",
       "    </tr>\n",
       "    <tr>\n",
       "      <th>50%</th>\n",
       "      <td>1100.500000</td>\n",
       "      <td>3.000000</td>\n",
       "      <td>27.000000</td>\n",
       "      <td>0.000000</td>\n",
       "      <td>0.000000</td>\n",
       "      <td>14.454200</td>\n",
       "    </tr>\n",
       "    <tr>\n",
       "      <th>75%</th>\n",
       "      <td>1204.750000</td>\n",
       "      <td>3.000000</td>\n",
       "      <td>39.000000</td>\n",
       "      <td>1.000000</td>\n",
       "      <td>0.000000</td>\n",
       "      <td>31.500000</td>\n",
       "    </tr>\n",
       "    <tr>\n",
       "      <th>max</th>\n",
       "      <td>1309.000000</td>\n",
       "      <td>3.000000</td>\n",
       "      <td>76.000000</td>\n",
       "      <td>8.000000</td>\n",
       "      <td>9.000000</td>\n",
       "      <td>512.329200</td>\n",
       "    </tr>\n",
       "  </tbody>\n",
       "</table>\n",
       "</div>"
      ],
      "text/plain": [
       "       PassengerId      Pclass         Age       SibSp       Parch        Fare\n",
       "count   418.000000  418.000000  332.000000  418.000000  418.000000  417.000000\n",
       "mean   1100.500000    2.265550   30.272590    0.447368    0.392344   35.627188\n",
       "std     120.810458    0.841838   14.181209    0.896760    0.981429   55.907576\n",
       "min     892.000000    1.000000    0.170000    0.000000    0.000000    0.000000\n",
       "25%     996.250000    1.000000   21.000000    0.000000    0.000000    7.895800\n",
       "50%    1100.500000    3.000000   27.000000    0.000000    0.000000   14.454200\n",
       "75%    1204.750000    3.000000   39.000000    1.000000    0.000000   31.500000\n",
       "max    1309.000000    3.000000   76.000000    8.000000    9.000000  512.329200"
      ]
     },
     "execution_count": 8,
     "metadata": {},
     "output_type": "execute_result"
    }
   ],
   "source": [
    "test.describe()"
   ]
  },
  {
   "cell_type": "markdown",
   "metadata": {},
   "source": [
    "# Missing values"
   ]
  },
  {
   "cell_type": "code",
   "execution_count": 9,
   "metadata": {},
   "outputs": [],
   "source": [
    "train['Age'] = train.Age.fillna(train.Age.median())\n",
    "test['Age'] = test.Age.fillna(train.Age.median())\n",
    "test['Fare'] = test.Fare.fillna(test.Fare.median())\n",
    "train['Embarked'] = train.Embarked.fillna('S')"
   ]
  },
  {
   "cell_type": "code",
   "execution_count": 10,
   "metadata": {},
   "outputs": [
    {
     "name": "stdout",
     "output_type": "stream",
     "text": [
      "<class 'pandas.core.frame.DataFrame'>\n",
      "RangeIndex: 891 entries, 0 to 890\n",
      "Data columns (total 12 columns):\n",
      "PassengerId    891 non-null int64\n",
      "Survived       891 non-null int64\n",
      "Pclass         891 non-null int64\n",
      "Name           891 non-null object\n",
      "Sex            891 non-null object\n",
      "Age            891 non-null float64\n",
      "SibSp          891 non-null int64\n",
      "Parch          891 non-null int64\n",
      "Ticket         891 non-null object\n",
      "Fare           891 non-null float64\n",
      "Cabin          204 non-null object\n",
      "Embarked       891 non-null object\n",
      "dtypes: float64(2), int64(5), object(5)\n",
      "memory usage: 83.6+ KB\n"
     ]
    }
   ],
   "source": [
    "train.info()"
   ]
  },
  {
   "cell_type": "code",
   "execution_count": 11,
   "metadata": {},
   "outputs": [
    {
     "name": "stdout",
     "output_type": "stream",
     "text": [
      "<class 'pandas.core.frame.DataFrame'>\n",
      "RangeIndex: 418 entries, 0 to 417\n",
      "Data columns (total 11 columns):\n",
      "PassengerId    418 non-null int64\n",
      "Pclass         418 non-null int64\n",
      "Name           418 non-null object\n",
      "Sex            418 non-null object\n",
      "Age            418 non-null float64\n",
      "SibSp          418 non-null int64\n",
      "Parch          418 non-null int64\n",
      "Ticket         418 non-null object\n",
      "Fare           418 non-null float64\n",
      "Cabin          91 non-null object\n",
      "Embarked       418 non-null object\n",
      "dtypes: float64(2), int64(4), object(5)\n",
      "memory usage: 36.0+ KB\n"
     ]
    }
   ],
   "source": [
    "test.info()"
   ]
  },
  {
   "cell_type": "code",
   "execution_count": 12,
   "metadata": {},
   "outputs": [
    {
     "data": {
      "text/html": [
       "<div>\n",
       "<style scoped>\n",
       "    .dataframe tbody tr th:only-of-type {\n",
       "        vertical-align: middle;\n",
       "    }\n",
       "\n",
       "    .dataframe tbody tr th {\n",
       "        vertical-align: top;\n",
       "    }\n",
       "\n",
       "    .dataframe thead th {\n",
       "        text-align: right;\n",
       "    }\n",
       "</style>\n",
       "<table border=\"1\" class=\"dataframe\">\n",
       "  <thead>\n",
       "    <tr style=\"text-align: right;\">\n",
       "      <th></th>\n",
       "      <th>PassengerId</th>\n",
       "      <th>Survived</th>\n",
       "      <th>Pclass</th>\n",
       "      <th>Name</th>\n",
       "      <th>Sex</th>\n",
       "      <th>Age</th>\n",
       "      <th>SibSp</th>\n",
       "      <th>Parch</th>\n",
       "      <th>Ticket</th>\n",
       "      <th>Fare</th>\n",
       "      <th>Cabin</th>\n",
       "      <th>Embarked</th>\n",
       "    </tr>\n",
       "  </thead>\n",
       "  <tbody>\n",
       "    <tr>\n",
       "      <th>0</th>\n",
       "      <td>1</td>\n",
       "      <td>0</td>\n",
       "      <td>3</td>\n",
       "      <td>Braund, Mr. Owen Harris</td>\n",
       "      <td>male</td>\n",
       "      <td>22.0</td>\n",
       "      <td>1</td>\n",
       "      <td>0</td>\n",
       "      <td>A/5 21171</td>\n",
       "      <td>7.2500</td>\n",
       "      <td>NaN</td>\n",
       "      <td>S</td>\n",
       "    </tr>\n",
       "    <tr>\n",
       "      <th>1</th>\n",
       "      <td>2</td>\n",
       "      <td>1</td>\n",
       "      <td>1</td>\n",
       "      <td>Cumings, Mrs. John Bradley (Florence Briggs Th...</td>\n",
       "      <td>female</td>\n",
       "      <td>38.0</td>\n",
       "      <td>1</td>\n",
       "      <td>0</td>\n",
       "      <td>PC 17599</td>\n",
       "      <td>71.2833</td>\n",
       "      <td>C85</td>\n",
       "      <td>C</td>\n",
       "    </tr>\n",
       "    <tr>\n",
       "      <th>2</th>\n",
       "      <td>3</td>\n",
       "      <td>1</td>\n",
       "      <td>3</td>\n",
       "      <td>Heikkinen, Miss. Laina</td>\n",
       "      <td>female</td>\n",
       "      <td>26.0</td>\n",
       "      <td>0</td>\n",
       "      <td>0</td>\n",
       "      <td>STON/O2. 3101282</td>\n",
       "      <td>7.9250</td>\n",
       "      <td>NaN</td>\n",
       "      <td>S</td>\n",
       "    </tr>\n",
       "    <tr>\n",
       "      <th>3</th>\n",
       "      <td>4</td>\n",
       "      <td>1</td>\n",
       "      <td>1</td>\n",
       "      <td>Futrelle, Mrs. Jacques Heath (Lily May Peel)</td>\n",
       "      <td>female</td>\n",
       "      <td>35.0</td>\n",
       "      <td>1</td>\n",
       "      <td>0</td>\n",
       "      <td>113803</td>\n",
       "      <td>53.1000</td>\n",
       "      <td>C123</td>\n",
       "      <td>S</td>\n",
       "    </tr>\n",
       "    <tr>\n",
       "      <th>4</th>\n",
       "      <td>5</td>\n",
       "      <td>0</td>\n",
       "      <td>3</td>\n",
       "      <td>Allen, Mr. William Henry</td>\n",
       "      <td>male</td>\n",
       "      <td>35.0</td>\n",
       "      <td>0</td>\n",
       "      <td>0</td>\n",
       "      <td>373450</td>\n",
       "      <td>8.0500</td>\n",
       "      <td>NaN</td>\n",
       "      <td>S</td>\n",
       "    </tr>\n",
       "  </tbody>\n",
       "</table>\n",
       "</div>"
      ],
      "text/plain": [
       "   PassengerId  Survived  Pclass  \\\n",
       "0            1         0       3   \n",
       "1            2         1       1   \n",
       "2            3         1       3   \n",
       "3            4         1       1   \n",
       "4            5         0       3   \n",
       "\n",
       "                                                Name     Sex   Age  SibSp  \\\n",
       "0                            Braund, Mr. Owen Harris    male  22.0      1   \n",
       "1  Cumings, Mrs. John Bradley (Florence Briggs Th...  female  38.0      1   \n",
       "2                             Heikkinen, Miss. Laina  female  26.0      0   \n",
       "3       Futrelle, Mrs. Jacques Heath (Lily May Peel)  female  35.0      1   \n",
       "4                           Allen, Mr. William Henry    male  35.0      0   \n",
       "\n",
       "   Parch            Ticket     Fare Cabin Embarked  \n",
       "0      0         A/5 21171   7.2500   NaN        S  \n",
       "1      0          PC 17599  71.2833   C85        C  \n",
       "2      0  STON/O2. 3101282   7.9250   NaN        S  \n",
       "3      0            113803  53.1000  C123        S  \n",
       "4      0            373450   8.0500   NaN        S  "
      ]
     },
     "execution_count": 12,
     "metadata": {},
     "output_type": "execute_result"
    }
   ],
   "source": [
    "train.head()"
   ]
  },
  {
   "cell_type": "code",
   "execution_count": 13,
   "metadata": {},
   "outputs": [],
   "source": [
    "train['Sex'] = train['Sex'].map({'male':0, 'female':1})\n",
    "train['Embarked'] = train['Embarked'].map({'S':0, 'C':1, 'Q':2})"
   ]
  },
  {
   "cell_type": "code",
   "execution_count": 14,
   "metadata": {},
   "outputs": [],
   "source": [
    "test['Sex'] = test['Sex'].map({'male':0, 'female':1})\n",
    "test['Embarked'] = test['Embarked'].map({'S':0, 'C':1, 'Q':2})"
   ]
  },
  {
   "cell_type": "code",
   "execution_count": 15,
   "metadata": {},
   "outputs": [
    {
     "name": "stdout",
     "output_type": "stream",
     "text": [
      "<class 'pandas.core.frame.DataFrame'>\n",
      "RangeIndex: 891 entries, 0 to 890\n",
      "Data columns (total 12 columns):\n",
      "PassengerId    891 non-null int64\n",
      "Survived       891 non-null int64\n",
      "Pclass         891 non-null int64\n",
      "Name           891 non-null object\n",
      "Sex            891 non-null int64\n",
      "Age            891 non-null float64\n",
      "SibSp          891 non-null int64\n",
      "Parch          891 non-null int64\n",
      "Ticket         891 non-null object\n",
      "Fare           891 non-null float64\n",
      "Cabin          204 non-null object\n",
      "Embarked       891 non-null int64\n",
      "dtypes: float64(2), int64(7), object(3)\n",
      "memory usage: 83.6+ KB\n"
     ]
    }
   ],
   "source": [
    "# Sex & Embarked type changed to float\n",
    "train.info()"
   ]
  },
  {
   "cell_type": "code",
   "execution_count": 16,
   "metadata": {},
   "outputs": [
    {
     "name": "stdout",
     "output_type": "stream",
     "text": [
      "<class 'pandas.core.frame.DataFrame'>\n",
      "RangeIndex: 418 entries, 0 to 417\n",
      "Data columns (total 11 columns):\n",
      "PassengerId    418 non-null int64\n",
      "Pclass         418 non-null int64\n",
      "Name           418 non-null object\n",
      "Sex            418 non-null int64\n",
      "Age            418 non-null float64\n",
      "SibSp          418 non-null int64\n",
      "Parch          418 non-null int64\n",
      "Ticket         418 non-null object\n",
      "Fare           418 non-null float64\n",
      "Cabin          91 non-null object\n",
      "Embarked       418 non-null int64\n",
      "dtypes: float64(2), int64(6), object(3)\n",
      "memory usage: 36.0+ KB\n"
     ]
    }
   ],
   "source": [
    "test.info()"
   ]
  },
  {
   "cell_type": "markdown",
   "metadata": {},
   "source": [
    "# Defining data to use"
   ]
  },
  {
   "cell_type": "code",
   "execution_count": 17,
   "metadata": {},
   "outputs": [],
   "source": [
    "df_train = train.drop(['PassengerId','Name', 'Ticket', 'Cabin'], axis = 1)\n",
    "df_test = test.drop(['PassengerId','Name', 'Ticket', 'Cabin'], axis = 1)"
   ]
  },
  {
   "cell_type": "code",
   "execution_count": 18,
   "metadata": {},
   "outputs": [
    {
     "data": {
      "text/html": [
       "<div>\n",
       "<style scoped>\n",
       "    .dataframe tbody tr th:only-of-type {\n",
       "        vertical-align: middle;\n",
       "    }\n",
       "\n",
       "    .dataframe tbody tr th {\n",
       "        vertical-align: top;\n",
       "    }\n",
       "\n",
       "    .dataframe thead th {\n",
       "        text-align: right;\n",
       "    }\n",
       "</style>\n",
       "<table border=\"1\" class=\"dataframe\">\n",
       "  <thead>\n",
       "    <tr style=\"text-align: right;\">\n",
       "      <th></th>\n",
       "      <th>Survived</th>\n",
       "      <th>Pclass</th>\n",
       "      <th>Sex</th>\n",
       "      <th>Age</th>\n",
       "      <th>SibSp</th>\n",
       "      <th>Parch</th>\n",
       "      <th>Fare</th>\n",
       "      <th>Embarked</th>\n",
       "    </tr>\n",
       "  </thead>\n",
       "  <tbody>\n",
       "    <tr>\n",
       "      <th>0</th>\n",
       "      <td>0</td>\n",
       "      <td>3</td>\n",
       "      <td>0</td>\n",
       "      <td>22.0</td>\n",
       "      <td>1</td>\n",
       "      <td>0</td>\n",
       "      <td>7.2500</td>\n",
       "      <td>0</td>\n",
       "    </tr>\n",
       "    <tr>\n",
       "      <th>1</th>\n",
       "      <td>1</td>\n",
       "      <td>1</td>\n",
       "      <td>1</td>\n",
       "      <td>38.0</td>\n",
       "      <td>1</td>\n",
       "      <td>0</td>\n",
       "      <td>71.2833</td>\n",
       "      <td>1</td>\n",
       "    </tr>\n",
       "    <tr>\n",
       "      <th>2</th>\n",
       "      <td>1</td>\n",
       "      <td>3</td>\n",
       "      <td>1</td>\n",
       "      <td>26.0</td>\n",
       "      <td>0</td>\n",
       "      <td>0</td>\n",
       "      <td>7.9250</td>\n",
       "      <td>0</td>\n",
       "    </tr>\n",
       "    <tr>\n",
       "      <th>3</th>\n",
       "      <td>1</td>\n",
       "      <td>1</td>\n",
       "      <td>1</td>\n",
       "      <td>35.0</td>\n",
       "      <td>1</td>\n",
       "      <td>0</td>\n",
       "      <td>53.1000</td>\n",
       "      <td>0</td>\n",
       "    </tr>\n",
       "    <tr>\n",
       "      <th>4</th>\n",
       "      <td>0</td>\n",
       "      <td>3</td>\n",
       "      <td>0</td>\n",
       "      <td>35.0</td>\n",
       "      <td>0</td>\n",
       "      <td>0</td>\n",
       "      <td>8.0500</td>\n",
       "      <td>0</td>\n",
       "    </tr>\n",
       "  </tbody>\n",
       "</table>\n",
       "</div>"
      ],
      "text/plain": [
       "   Survived  Pclass  Sex   Age  SibSp  Parch     Fare  Embarked\n",
       "0         0       3    0  22.0      1      0   7.2500         0\n",
       "1         1       1    1  38.0      1      0  71.2833         1\n",
       "2         1       3    1  26.0      0      0   7.9250         0\n",
       "3         1       1    1  35.0      1      0  53.1000         0\n",
       "4         0       3    0  35.0      0      0   8.0500         0"
      ]
     },
     "execution_count": 18,
     "metadata": {},
     "output_type": "execute_result"
    }
   ],
   "source": [
    "df_train.head()"
   ]
  },
  {
   "cell_type": "markdown",
   "metadata": {},
   "source": [
    "# Family relations\n",
    "\n",
    "sibsp: The dataset defines family relations in this way...\n",
    "\n",
    "Sibling = brother, sister, stepbrother, stepsister\n",
    "\n",
    "Spouse = husband, wife (mistresses and fiancés were ignored)\n",
    "\n",
    "parch: The dataset defines family relations in this way...\n",
    "\n",
    "Parent = mother, father\n",
    "\n",
    "Child = daughter, son, stepdaughter, stepson\n",
    "\n",
    "Some children travelled only with a nanny, therefore parch=0 for them."
   ]
  },
  {
   "cell_type": "code",
   "execution_count": 19,
   "metadata": {},
   "outputs": [],
   "source": [
    "df_train['FamSize'] = df_train['SibSp'] + df_train['Parch'] + 1\n",
    "df_test['FamSize'] = df_test['SibSp'] + df_test['Parch'] + 1"
   ]
  },
  {
   "cell_type": "code",
   "execution_count": 20,
   "metadata": {},
   "outputs": [
    {
     "name": "stdout",
     "output_type": "stream",
     "text": [
      "<class 'pandas.core.frame.DataFrame'>\n",
      "RangeIndex: 891 entries, 0 to 890\n",
      "Data columns (total 9 columns):\n",
      "Survived    891 non-null int64\n",
      "Pclass      891 non-null int64\n",
      "Sex         891 non-null int64\n",
      "Age         891 non-null float64\n",
      "SibSp       891 non-null int64\n",
      "Parch       891 non-null int64\n",
      "Fare        891 non-null float64\n",
      "Embarked    891 non-null int64\n",
      "FamSize     891 non-null int64\n",
      "dtypes: float64(2), int64(7)\n",
      "memory usage: 62.7 KB\n"
     ]
    }
   ],
   "source": [
    "df_train.info()"
   ]
  },
  {
   "cell_type": "markdown",
   "metadata": {},
   "source": [
    "# Visualizing Data"
   ]
  },
  {
   "cell_type": "code",
   "execution_count": 21,
   "metadata": {},
   "outputs": [
    {
     "data": {
      "text/plain": [
       "<matplotlib.axes._subplots.AxesSubplot at 0x1fe4bc969b0>"
      ]
     },
     "execution_count": 21,
     "metadata": {},
     "output_type": "execute_result"
    },
    {
     "data": {
      "image/png": "[encoded data removed]",
      "text/plain": [
       "<Figure size 432x288 with 1 Axes>"
      ]
     },
     "metadata": {},
     "output_type": "display_data"
    }
   ],
   "source": [
    "df_train.plot.scatter(x ='FamSize', y='SibSp')"
   ]
  },
  {
   "cell_type": "code",
   "execution_count": 22,
   "metadata": {},
   "outputs": [
    {
     "data": {
      "text/plain": [
       "<matplotlib.axes._subplots.AxesSubplot at 0x1fe4c059be0>"
      ]
     },
     "execution_count": 22,
     "metadata": {},
     "output_type": "execute_result"
    },
    {
     "data": {
      "image/png": "[encoded data removed]",
      "text/plain": [
       "<Figure size 720x576 with 2 Axes>"
      ]
     },
     "metadata": {},
     "output_type": "display_data"
    }
   ],
   "source": [
    "f, ax = plt.subplots(figsize=(10, 8))\n",
    "corr = df_train.corr()\n",
    "sns.heatmap(corr, mask=np.zeros_like(corr, dtype=np.bool), cmap=sns.diverging_palette(220, 10, as_cmap=True),\n",
    "            square=True, ax=ax)"
   ]
  },
  {
   "cell_type": "code",
   "execution_count": 23,
   "metadata": {},
   "outputs": [
    {
     "data": {
      "text/html": [
       "<style  type=\"text/css\" >\n",
       "    #T_c13d99ee_aa59_11e8_a779_d85de29bbfac th {\n",
       "          font-size: 7pt;\n",
       "    }    #T_c13d99ee_aa59_11e8_a779_d85de29bbfac td {\n",
       "          padding: 0em 0em;\n",
       "    }    #T_c13d99ee_aa59_11e8_a779_d85de29bbfac th:hover {\n",
       "          font-size: 12pt;\n",
       "    }    #T_c13d99ee_aa59_11e8_a779_d85de29bbfac tr:hover td:hover {\n",
       "          max-width: 200px;\n",
       "          font-size: 12pt;\n",
       "    }    #T_c13d99ee_aa59_11e8_a779_d85de29bbfacrow0_col0 {\n",
       "            background-color:  #4479bb;\n",
       "            max-width:  80px;\n",
       "            font-size:  10pt;\n",
       "        }    #T_c13d99ee_aa59_11e8_a779_d85de29bbfacrow0_col1 {\n",
       "            background-color:  #d73c5b;\n",
       "            max-width:  80px;\n",
       "            font-size:  10pt;\n",
       "        }    #T_c13d99ee_aa59_11e8_a779_d85de29bbfacrow0_col2 {\n",
       "            background-color:  #bccfe7;\n",
       "            max-width:  80px;\n",
       "            font-size:  10pt;\n",
       "        }    #T_c13d99ee_aa59_11e8_a779_d85de29bbfacrow0_col3 {\n",
       "            background-color:  #e68699;\n",
       "            max-width:  80px;\n",
       "            font-size:  10pt;\n",
       "        }    #T_c13d99ee_aa59_11e8_a779_d85de29bbfacrow0_col4 {\n",
       "            background-color:  #e88d9f;\n",
       "            max-width:  80px;\n",
       "            font-size:  10pt;\n",
       "        }    #T_c13d99ee_aa59_11e8_a779_d85de29bbfacrow0_col5 {\n",
       "            background-color:  #eeaebb;\n",
       "            max-width:  80px;\n",
       "            font-size:  10pt;\n",
       "        }    #T_c13d99ee_aa59_11e8_a779_d85de29bbfacrow0_col6 {\n",
       "            background-color:  #f8dee3;\n",
       "            max-width:  80px;\n",
       "            font-size:  10pt;\n",
       "        }    #T_c13d99ee_aa59_11e8_a779_d85de29bbfacrow0_col7 {\n",
       "            background-color:  #f0b5c1;\n",
       "            max-width:  80px;\n",
       "            font-size:  10pt;\n",
       "        }    #T_c13d99ee_aa59_11e8_a779_d85de29bbfacrow0_col8 {\n",
       "            background-color:  #eb9bab;\n",
       "            max-width:  80px;\n",
       "            font-size:  10pt;\n",
       "        }    #T_c13d99ee_aa59_11e8_a779_d85de29bbfacrow1_col0 {\n",
       "            background-color:  #e16c84;\n",
       "            max-width:  80px;\n",
       "            font-size:  10pt;\n",
       "        }    #T_c13d99ee_aa59_11e8_a779_d85de29bbfacrow1_col1 {\n",
       "            background-color:  #4479bb;\n",
       "            max-width:  80px;\n",
       "            font-size:  10pt;\n",
       "        }    #T_c13d99ee_aa59_11e8_a779_d85de29bbfacrow1_col2 {\n",
       "            background-color:  #eb9dac;\n",
       "            max-width:  80px;\n",
       "            font-size:  10pt;\n",
       "        }    #T_c13d99ee_aa59_11e8_a779_d85de29bbfacrow1_col3 {\n",
       "            background-color:  #e16c84;\n",
       "            max-width:  80px;\n",
       "            font-size:  10pt;\n",
       "        }    #T_c13d99ee_aa59_11e8_a779_d85de29bbfacrow1_col4 {\n",
       "            background-color:  #f6d1d8;\n",
       "            max-width:  80px;\n",
       "            font-size:  10pt;\n",
       "        }    #T_c13d99ee_aa59_11e8_a779_d85de29bbfacrow1_col5 {\n",
       "            background-color:  #f2c1cb;\n",
       "            max-width:  80px;\n",
       "            font-size:  10pt;\n",
       "        }    #T_c13d99ee_aa59_11e8_a779_d85de29bbfacrow1_col6 {\n",
       "            background-color:  #d73c5b;\n",
       "            max-width:  80px;\n",
       "            font-size:  10pt;\n",
       "        }    #T_c13d99ee_aa59_11e8_a779_d85de29bbfacrow1_col7 {\n",
       "            background-color:  #f4c8d0;\n",
       "            max-width:  80px;\n",
       "            font-size:  10pt;\n",
       "        }    #T_c13d99ee_aa59_11e8_a779_d85de29bbfacrow1_col8 {\n",
       "            background-color:  #f5ccd4;\n",
       "            max-width:  80px;\n",
       "            font-size:  10pt;\n",
       "        }    #T_c13d99ee_aa59_11e8_a779_d85de29bbfacrow2_col0 {\n",
       "            background-color:  #d3dfef;\n",
       "            max-width:  80px;\n",
       "            font-size:  10pt;\n",
       "        }    #T_c13d99ee_aa59_11e8_a779_d85de29bbfacrow2_col1 {\n",
       "            background-color:  #d73c5b;\n",
       "            max-width:  80px;\n",
       "            font-size:  10pt;\n",
       "        }    #T_c13d99ee_aa59_11e8_a779_d85de29bbfacrow2_col2 {\n",
       "            background-color:  #4479bb;\n",
       "            max-width:  80px;\n",
       "            font-size:  10pt;\n",
       "        }    #T_c13d99ee_aa59_11e8_a779_d85de29bbfacrow2_col3 {\n",
       "            background-color:  #da4b68;\n",
       "            max-width:  80px;\n",
       "            font-size:  10pt;\n",
       "        }    #T_c13d99ee_aa59_11e8_a779_d85de29bbfacrow2_col4 {\n",
       "            background-color:  #e78a9d;\n",
       "            max-width:  80px;\n",
       "            font-size:  10pt;\n",
       "        }    #T_c13d99ee_aa59_11e8_a779_d85de29bbfacrow2_col5 {\n",
       "            background-color:  #f0b5c1;\n",
       "            max-width:  80px;\n",
       "            font-size:  10pt;\n",
       "        }    #T_c13d99ee_aa59_11e8_a779_d85de29bbfacrow2_col6 {\n",
       "            background-color:  #eca1b0;\n",
       "            max-width:  80px;\n",
       "            font-size:  10pt;\n",
       "        }    #T_c13d99ee_aa59_11e8_a779_d85de29bbfacrow2_col7 {\n",
       "            background-color:  #e78c9e;\n",
       "            max-width:  80px;\n",
       "            font-size:  10pt;\n",
       "        }    #T_c13d99ee_aa59_11e8_a779_d85de29bbfacrow2_col8 {\n",
       "            background-color:  #eda7b5;\n",
       "            max-width:  80px;\n",
       "            font-size:  10pt;\n",
       "        }    #T_c13d99ee_aa59_11e8_a779_d85de29bbfacrow3_col0 {\n",
       "            background-color:  #e68699;\n",
       "            max-width:  80px;\n",
       "            font-size:  10pt;\n",
       "        }    #T_c13d99ee_aa59_11e8_a779_d85de29bbfacrow3_col1 {\n",
       "            background-color:  #d73c5b;\n",
       "            max-width:  80px;\n",
       "            font-size:  10pt;\n",
       "        }    #T_c13d99ee_aa59_11e8_a779_d85de29bbfacrow3_col2 {\n",
       "            background-color:  #e58195;\n",
       "            max-width:  80px;\n",
       "            font-size:  10pt;\n",
       "        }    #T_c13d99ee_aa59_11e8_a779_d85de29bbfacrow3_col3 {\n",
       "            background-color:  #4479bb;\n",
       "            max-width:  80px;\n",
       "            font-size:  10pt;\n",
       "        }    #T_c13d99ee_aa59_11e8_a779_d85de29bbfacrow3_col4 {\n",
       "            background-color:  #dd5872;\n",
       "            max-width:  80px;\n",
       "            font-size:  10pt;\n",
       "        }    #T_c13d99ee_aa59_11e8_a779_d85de29bbfacrow3_col5 {\n",
       "            background-color:  #e06880;\n",
       "            max-width:  80px;\n",
       "            font-size:  10pt;\n",
       "        }    #T_c13d99ee_aa59_11e8_a779_d85de29bbfacrow3_col6 {\n",
       "            background-color:  #efb2bf;\n",
       "            max-width:  80px;\n",
       "            font-size:  10pt;\n",
       "        }    #T_c13d99ee_aa59_11e8_a779_d85de29bbfacrow3_col7 {\n",
       "            background-color:  #ea96a7;\n",
       "            max-width:  80px;\n",
       "            font-size:  10pt;\n",
       "        }    #T_c13d99ee_aa59_11e8_a779_d85de29bbfacrow3_col8 {\n",
       "            background-color:  #dc5570;\n",
       "            max-width:  80px;\n",
       "            font-size:  10pt;\n",
       "        }    #T_c13d99ee_aa59_11e8_a779_d85de29bbfacrow4_col0 {\n",
       "            background-color:  #e3768c;\n",
       "            max-width:  80px;\n",
       "            font-size:  10pt;\n",
       "        }    #T_c13d99ee_aa59_11e8_a779_d85de29bbfacrow4_col1 {\n",
       "            background-color:  #ea99a9;\n",
       "            max-width:  80px;\n",
       "            font-size:  10pt;\n",
       "        }    #T_c13d99ee_aa59_11e8_a779_d85de29bbfacrow4_col2 {\n",
       "            background-color:  #eca3b1;\n",
       "            max-width:  80px;\n",
       "            font-size:  10pt;\n",
       "        }    #T_c13d99ee_aa59_11e8_a779_d85de29bbfacrow4_col3 {\n",
       "            background-color:  #d73c5b;\n",
       "            max-width:  80px;\n",
       "            font-size:  10pt;\n",
       "        }    #T_c13d99ee_aa59_11e8_a779_d85de29bbfacrow4_col4 {\n",
       "            background-color:  #4479bb;\n",
       "            max-width:  80px;\n",
       "            font-size:  10pt;\n",
       "        }    #T_c13d99ee_aa59_11e8_a779_d85de29bbfacrow4_col5 {\n",
       "            background-color:  #ebf1f8;\n",
       "            max-width:  80px;\n",
       "            font-size:  10pt;\n",
       "        }    #T_c13d99ee_aa59_11e8_a779_d85de29bbfacrow4_col6 {\n",
       "            background-color:  #efafbc;\n",
       "            max-width:  80px;\n",
       "            font-size:  10pt;\n",
       "        }    #T_c13d99ee_aa59_11e8_a779_d85de29bbfacrow4_col7 {\n",
       "            background-color:  #e16d85;\n",
       "            max-width:  80px;\n",
       "            font-size:  10pt;\n",
       "        }    #T_c13d99ee_aa59_11e8_a779_d85de29bbfacrow4_col8 {\n",
       "            background-color:  #628fc6;\n",
       "            max-width:  80px;\n",
       "            font-size:  10pt;\n",
       "        }    #T_c13d99ee_aa59_11e8_a779_d85de29bbfacrow5_col0 {\n",
       "            background-color:  #e78a9d;\n",
       "            max-width:  80px;\n",
       "            font-size:  10pt;\n",
       "        }    #T_c13d99ee_aa59_11e8_a779_d85de29bbfacrow5_col1 {\n",
       "            background-color:  #e3768c;\n",
       "            max-width:  80px;\n",
       "            font-size:  10pt;\n",
       "        }    #T_c13d99ee_aa59_11e8_a779_d85de29bbfacrow5_col2 {\n",
       "            background-color:  #f2bdc8;\n",
       "            max-width:  80px;\n",
       "            font-size:  10pt;\n",
       "        }    #T_c13d99ee_aa59_11e8_a779_d85de29bbfacrow5_col3 {\n",
       "            background-color:  #d73c5b;\n",
       "            max-width:  80px;\n",
       "            font-size:  10pt;\n",
       "        }    #T_c13d99ee_aa59_11e8_a779_d85de29bbfacrow5_col4 {\n",
       "            background-color:  #f2f2f2;\n",
       "            max-width:  80px;\n",
       "            font-size:  10pt;\n",
       "        }    #T_c13d99ee_aa59_11e8_a779_d85de29bbfacrow5_col5 {\n",
       "            background-color:  #4479bb;\n",
       "            max-width:  80px;\n",
       "            font-size:  10pt;\n",
       "        }    #T_c13d99ee_aa59_11e8_a779_d85de29bbfacrow5_col6 {\n",
       "            background-color:  #f0b4c0;\n",
       "            max-width:  80px;\n",
       "            font-size:  10pt;\n",
       "        }    #T_c13d99ee_aa59_11e8_a779_d85de29bbfacrow5_col7 {\n",
       "            background-color:  #dd5872;\n",
       "            max-width:  80px;\n",
       "            font-size:  10pt;\n",
       "        }    #T_c13d99ee_aa59_11e8_a779_d85de29bbfacrow5_col8 {\n",
       "            background-color:  #85a7d2;\n",
       "            max-width:  80px;\n",
       "            font-size:  10pt;\n",
       "        }    #T_c13d99ee_aa59_11e8_a779_d85de29bbfacrow6_col0 {\n",
       "            background-color:  #ecf2f8;\n",
       "            max-width:  80px;\n",
       "            font-size:  10pt;\n",
       "        }    #T_c13d99ee_aa59_11e8_a779_d85de29bbfacrow6_col1 {\n",
       "            background-color:  #d73c5b;\n",
       "            max-width:  80px;\n",
       "            font-size:  10pt;\n",
       "        }    #T_c13d99ee_aa59_11e8_a779_d85de29bbfacrow6_col2 {\n",
       "            background-color:  #fae7eb;\n",
       "            max-width:  80px;\n",
       "            font-size:  10pt;\n",
       "        }    #T_c13d99ee_aa59_11e8_a779_d85de29bbfacrow6_col3 {\n",
       "            background-color:  #f6d3da;\n",
       "            max-width:  80px;\n",
       "            font-size:  10pt;\n",
       "        }    #T_c13d99ee_aa59_11e8_a779_d85de29bbfacrow6_col4 {\n",
       "            background-color:  #f9e3e7;\n",
       "            max-width:  80px;\n",
       "            font-size:  10pt;\n",
       "        }    #T_c13d99ee_aa59_11e8_a779_d85de29bbfacrow6_col5 {\n",
       "            background-color:  #f2f2f2;\n",
       "            max-width:  80px;\n",
       "            font-size:  10pt;\n",
       "        }    #T_c13d99ee_aa59_11e8_a779_d85de29bbfacrow6_col6 {\n",
       "            background-color:  #4479bb;\n",
       "            max-width:  80px;\n",
       "            font-size:  10pt;\n",
       "        }    #T_c13d99ee_aa59_11e8_a779_d85de29bbfacrow6_col7 {\n",
       "            background-color:  #f5ccd4;\n",
       "            max-width:  80px;\n",
       "            font-size:  10pt;\n",
       "        }    #T_c13d99ee_aa59_11e8_a779_d85de29bbfacrow6_col8 {\n",
       "            background-color:  #f2f2f2;\n",
       "            max-width:  80px;\n",
       "            font-size:  10pt;\n",
       "        }    #T_c13d99ee_aa59_11e8_a779_d85de29bbfacrow7_col0 {\n",
       "            background-color:  #e47a90;\n",
       "            max-width:  80px;\n",
       "            font-size:  10pt;\n",
       "        }    #T_c13d99ee_aa59_11e8_a779_d85de29bbfacrow7_col1 {\n",
       "            background-color:  #e0657d;\n",
       "            max-width:  80px;\n",
       "            font-size:  10pt;\n",
       "        }    #T_c13d99ee_aa59_11e8_a779_d85de29bbfacrow7_col2 {\n",
       "            background-color:  #e57d92;\n",
       "            max-width:  80px;\n",
       "            font-size:  10pt;\n",
       "        }    #T_c13d99ee_aa59_11e8_a779_d85de29bbfacrow7_col3 {\n",
       "            background-color:  #dc526e;\n",
       "            max-width:  80px;\n",
       "            font-size:  10pt;\n",
       "        }    #T_c13d99ee_aa59_11e8_a779_d85de29bbfacrow7_col4 {\n",
       "            background-color:  #d8415f;\n",
       "            max-width:  80px;\n",
       "            font-size:  10pt;\n",
       "        }    #T_c13d99ee_aa59_11e8_a779_d85de29bbfacrow7_col5 {\n",
       "            background-color:  #d73c5b;\n",
       "            max-width:  80px;\n",
       "            font-size:  10pt;\n",
       "        }    #T_c13d99ee_aa59_11e8_a779_d85de29bbfacrow7_col6 {\n",
       "            background-color:  #e16b82;\n",
       "            max-width:  80px;\n",
       "            font-size:  10pt;\n",
       "        }    #T_c13d99ee_aa59_11e8_a779_d85de29bbfacrow7_col7 {\n",
       "            background-color:  #4479bb;\n",
       "            max-width:  80px;\n",
       "            font-size:  10pt;\n",
       "        }    #T_c13d99ee_aa59_11e8_a779_d85de29bbfacrow7_col8 {\n",
       "            background-color:  #d73c5b;\n",
       "            max-width:  80px;\n",
       "            font-size:  10pt;\n",
       "        }    #T_c13d99ee_aa59_11e8_a779_d85de29bbfacrow8_col0 {\n",
       "            background-color:  #e7879b;\n",
       "            max-width:  80px;\n",
       "            font-size:  10pt;\n",
       "        }    #T_c13d99ee_aa59_11e8_a779_d85de29bbfacrow8_col1 {\n",
       "            background-color:  #ea97a8;\n",
       "            max-width:  80px;\n",
       "            font-size:  10pt;\n",
       "        }    #T_c13d99ee_aa59_11e8_a779_d85de29bbfacrow8_col2 {\n",
       "            background-color:  #f2bdc8;\n",
       "            max-width:  80px;\n",
       "            font-size:  10pt;\n",
       "        }    #T_c13d99ee_aa59_11e8_a779_d85de29bbfacrow8_col3 {\n",
       "            background-color:  #d73c5b;\n",
       "            max-width:  80px;\n",
       "            font-size:  10pt;\n",
       "        }    #T_c13d99ee_aa59_11e8_a779_d85de29bbfacrow8_col4 {\n",
       "            background-color:  #628fc6;\n",
       "            max-width:  80px;\n",
       "            font-size:  10pt;\n",
       "        }    #T_c13d99ee_aa59_11e8_a779_d85de29bbfacrow8_col5 {\n",
       "            background-color:  #81a4d1;\n",
       "            max-width:  80px;\n",
       "            font-size:  10pt;\n",
       "        }    #T_c13d99ee_aa59_11e8_a779_d85de29bbfacrow8_col6 {\n",
       "            background-color:  #f3c4cd;\n",
       "            max-width:  80px;\n",
       "            font-size:  10pt;\n",
       "        }    #T_c13d99ee_aa59_11e8_a779_d85de29bbfacrow8_col7 {\n",
       "            background-color:  #e16b82;\n",
       "            max-width:  80px;\n",
       "            font-size:  10pt;\n",
       "        }    #T_c13d99ee_aa59_11e8_a779_d85de29bbfacrow8_col8 {\n",
       "            background-color:  #4479bb;\n",
       "            max-width:  80px;\n",
       "            font-size:  10pt;\n",
       "        }</style>  \n",
       "<table id=\"T_c13d99ee_aa59_11e8_a779_d85de29bbfac\" ><caption>Hover to magify</caption> \n",
       "<thead>    <tr> \n",
       "        <th class=\"blank level0\" ></th> \n",
       "        <th class=\"col_heading level0 col0\" >Survived</th> \n",
       "        <th class=\"col_heading level0 col1\" >Pclass</th> \n",
       "        <th class=\"col_heading level0 col2\" >Sex</th> \n",
       "        <th class=\"col_heading level0 col3\" >Age</th> \n",
       "        <th class=\"col_heading level0 col4\" >SibSp</th> \n",
       "        <th class=\"col_heading level0 col5\" >Parch</th> \n",
       "        <th class=\"col_heading level0 col6\" >Fare</th> \n",
       "        <th class=\"col_heading level0 col7\" >Embarked</th> \n",
       "        <th class=\"col_heading level0 col8\" >FamSize</th> \n",
       "    </tr></thead> \n",
       "<tbody>    <tr> \n",
       "        <th id=\"T_c13d99ee_aa59_11e8_a779_d85de29bbfaclevel0_row0\" class=\"row_heading level0 row0\" >Survived</th> \n",
       "        <td id=\"T_c13d99ee_aa59_11e8_a779_d85de29bbfacrow0_col0\" class=\"data row0 col0\" >1</td> \n",
       "        <td id=\"T_c13d99ee_aa59_11e8_a779_d85de29bbfacrow0_col1\" class=\"data row0 col1\" >-0.34</td> \n",
       "        <td id=\"T_c13d99ee_aa59_11e8_a779_d85de29bbfacrow0_col2\" class=\"data row0 col2\" >0.54</td> \n",
       "        <td id=\"T_c13d99ee_aa59_11e8_a779_d85de29bbfacrow0_col3\" class=\"data row0 col3\" >-0.065</td> \n",
       "        <td id=\"T_c13d99ee_aa59_11e8_a779_d85de29bbfacrow0_col4\" class=\"data row0 col4\" >-0.035</td> \n",
       "        <td id=\"T_c13d99ee_aa59_11e8_a779_d85de29bbfacrow0_col5\" class=\"data row0 col5\" >0.082</td> \n",
       "        <td id=\"T_c13d99ee_aa59_11e8_a779_d85de29bbfacrow0_col6\" class=\"data row0 col6\" >0.26</td> \n",
       "        <td id=\"T_c13d99ee_aa59_11e8_a779_d85de29bbfacrow0_col7\" class=\"data row0 col7\" >0.11</td> \n",
       "        <td id=\"T_c13d99ee_aa59_11e8_a779_d85de29bbfacrow0_col8\" class=\"data row0 col8\" >0.017</td> \n",
       "    </tr>    <tr> \n",
       "        <th id=\"T_c13d99ee_aa59_11e8_a779_d85de29bbfaclevel0_row1\" class=\"row_heading level0 row1\" >Pclass</th> \n",
       "        <td id=\"T_c13d99ee_aa59_11e8_a779_d85de29bbfacrow1_col0\" class=\"data row1 col0\" >-0.34</td> \n",
       "        <td id=\"T_c13d99ee_aa59_11e8_a779_d85de29bbfacrow1_col1\" class=\"data row1 col1\" >1</td> \n",
       "        <td id=\"T_c13d99ee_aa59_11e8_a779_d85de29bbfacrow1_col2\" class=\"data row1 col2\" >-0.13</td> \n",
       "        <td id=\"T_c13d99ee_aa59_11e8_a779_d85de29bbfacrow1_col3\" class=\"data row1 col3\" >-0.34</td> \n",
       "        <td id=\"T_c13d99ee_aa59_11e8_a779_d85de29bbfacrow1_col4\" class=\"data row1 col4\" >0.083</td> \n",
       "        <td id=\"T_c13d99ee_aa59_11e8_a779_d85de29bbfacrow1_col5\" class=\"data row1 col5\" >0.018</td> \n",
       "        <td id=\"T_c13d99ee_aa59_11e8_a779_d85de29bbfacrow1_col6\" class=\"data row1 col6\" >-0.55</td> \n",
       "        <td id=\"T_c13d99ee_aa59_11e8_a779_d85de29bbfacrow1_col7\" class=\"data row1 col7\" >0.046</td> \n",
       "        <td id=\"T_c13d99ee_aa59_11e8_a779_d85de29bbfacrow1_col8\" class=\"data row1 col8\" >0.066</td> \n",
       "    </tr>    <tr> \n",
       "        <th id=\"T_c13d99ee_aa59_11e8_a779_d85de29bbfaclevel0_row2\" class=\"row_heading level0 row2\" >Sex</th> \n",
       "        <td id=\"T_c13d99ee_aa59_11e8_a779_d85de29bbfacrow2_col0\" class=\"data row2 col0\" >0.54</td> \n",
       "        <td id=\"T_c13d99ee_aa59_11e8_a779_d85de29bbfacrow2_col1\" class=\"data row2 col1\" >-0.13</td> \n",
       "        <td id=\"T_c13d99ee_aa59_11e8_a779_d85de29bbfacrow2_col2\" class=\"data row2 col2\" >1</td> \n",
       "        <td id=\"T_c13d99ee_aa59_11e8_a779_d85de29bbfacrow2_col3\" class=\"data row2 col3\" >-0.081</td> \n",
       "        <td id=\"T_c13d99ee_aa59_11e8_a779_d85de29bbfacrow2_col4\" class=\"data row2 col4\" >0.11</td> \n",
       "        <td id=\"T_c13d99ee_aa59_11e8_a779_d85de29bbfacrow2_col5\" class=\"data row2 col5\" >0.25</td> \n",
       "        <td id=\"T_c13d99ee_aa59_11e8_a779_d85de29bbfacrow2_col6\" class=\"data row2 col6\" >0.18</td> \n",
       "        <td id=\"T_c13d99ee_aa59_11e8_a779_d85de29bbfacrow2_col7\" class=\"data row2 col7\" >0.12</td> \n",
       "        <td id=\"T_c13d99ee_aa59_11e8_a779_d85de29bbfacrow2_col8\" class=\"data row2 col8\" >0.2</td> \n",
       "    </tr>    <tr> \n",
       "        <th id=\"T_c13d99ee_aa59_11e8_a779_d85de29bbfaclevel0_row3\" class=\"row_heading level0 row3\" >Age</th> \n",
       "        <td id=\"T_c13d99ee_aa59_11e8_a779_d85de29bbfacrow3_col0\" class=\"data row3 col0\" >-0.065</td> \n",
       "        <td id=\"T_c13d99ee_aa59_11e8_a779_d85de29bbfacrow3_col1\" class=\"data row3 col1\" >-0.34</td> \n",
       "        <td id=\"T_c13d99ee_aa59_11e8_a779_d85de29bbfacrow3_col2\" class=\"data row3 col2\" >-0.081</td> \n",
       "        <td id=\"T_c13d99ee_aa59_11e8_a779_d85de29bbfacrow3_col3\" class=\"data row3 col3\" >1</td> \n",
       "        <td id=\"T_c13d99ee_aa59_11e8_a779_d85de29bbfacrow3_col4\" class=\"data row3 col4\" >-0.23</td> \n",
       "        <td id=\"T_c13d99ee_aa59_11e8_a779_d85de29bbfacrow3_col5\" class=\"data row3 col5\" >-0.17</td> \n",
       "        <td id=\"T_c13d99ee_aa59_11e8_a779_d85de29bbfacrow3_col6\" class=\"data row3 col6\" >0.097</td> \n",
       "        <td id=\"T_c13d99ee_aa59_11e8_a779_d85de29bbfacrow3_col7\" class=\"data row3 col7\" >-0.0092</td> \n",
       "        <td id=\"T_c13d99ee_aa59_11e8_a779_d85de29bbfacrow3_col8\" class=\"data row3 col8\" >-0.25</td> \n",
       "    </tr>    <tr> \n",
       "        <th id=\"T_c13d99ee_aa59_11e8_a779_d85de29bbfaclevel0_row4\" class=\"row_heading level0 row4\" >SibSp</th> \n",
       "        <td id=\"T_c13d99ee_aa59_11e8_a779_d85de29bbfacrow4_col0\" class=\"data row4 col0\" >-0.035</td> \n",
       "        <td id=\"T_c13d99ee_aa59_11e8_a779_d85de29bbfacrow4_col1\" class=\"data row4 col1\" >0.083</td> \n",
       "        <td id=\"T_c13d99ee_aa59_11e8_a779_d85de29bbfacrow4_col2\" class=\"data row4 col2\" >0.11</td> \n",
       "        <td id=\"T_c13d99ee_aa59_11e8_a779_d85de29bbfacrow4_col3\" class=\"data row4 col3\" >-0.23</td> \n",
       "        <td id=\"T_c13d99ee_aa59_11e8_a779_d85de29bbfacrow4_col4\" class=\"data row4 col4\" >1</td> \n",
       "        <td id=\"T_c13d99ee_aa59_11e8_a779_d85de29bbfacrow4_col5\" class=\"data row4 col5\" >0.41</td> \n",
       "        <td id=\"T_c13d99ee_aa59_11e8_a779_d85de29bbfacrow4_col6\" class=\"data row4 col6\" >0.16</td> \n",
       "        <td id=\"T_c13d99ee_aa59_11e8_a779_d85de29bbfacrow4_col7\" class=\"data row4 col7\" >-0.06</td> \n",
       "        <td id=\"T_c13d99ee_aa59_11e8_a779_d85de29bbfacrow4_col8\" class=\"data row4 col8\" >0.89</td> \n",
       "    </tr>    <tr> \n",
       "        <th id=\"T_c13d99ee_aa59_11e8_a779_d85de29bbfaclevel0_row5\" class=\"row_heading level0 row5\" >Parch</th> \n",
       "        <td id=\"T_c13d99ee_aa59_11e8_a779_d85de29bbfacrow5_col0\" class=\"data row5 col0\" >0.082</td> \n",
       "        <td id=\"T_c13d99ee_aa59_11e8_a779_d85de29bbfacrow5_col1\" class=\"data row5 col1\" >0.018</td> \n",
       "        <td id=\"T_c13d99ee_aa59_11e8_a779_d85de29bbfacrow5_col2\" class=\"data row5 col2\" >0.25</td> \n",
       "        <td id=\"T_c13d99ee_aa59_11e8_a779_d85de29bbfacrow5_col3\" class=\"data row5 col3\" >-0.17</td> \n",
       "        <td id=\"T_c13d99ee_aa59_11e8_a779_d85de29bbfacrow5_col4\" class=\"data row5 col4\" >0.41</td> \n",
       "        <td id=\"T_c13d99ee_aa59_11e8_a779_d85de29bbfacrow5_col5\" class=\"data row5 col5\" >1</td> \n",
       "        <td id=\"T_c13d99ee_aa59_11e8_a779_d85de29bbfacrow5_col6\" class=\"data row5 col6\" >0.22</td> \n",
       "        <td id=\"T_c13d99ee_aa59_11e8_a779_d85de29bbfacrow5_col7\" class=\"data row5 col7\" >-0.079</td> \n",
       "        <td id=\"T_c13d99ee_aa59_11e8_a779_d85de29bbfacrow5_col8\" class=\"data row5 col8\" >0.78</td> \n",
       "    </tr>    <tr> \n",
       "        <th id=\"T_c13d99ee_aa59_11e8_a779_d85de29bbfaclevel0_row6\" class=\"row_heading level0 row6\" >Fare</th> \n",
       "        <td id=\"T_c13d99ee_aa59_11e8_a779_d85de29bbfacrow6_col0\" class=\"data row6 col0\" >0.26</td> \n",
       "        <td id=\"T_c13d99ee_aa59_11e8_a779_d85de29bbfacrow6_col1\" class=\"data row6 col1\" >-0.55</td> \n",
       "        <td id=\"T_c13d99ee_aa59_11e8_a779_d85de29bbfacrow6_col2\" class=\"data row6 col2\" >0.18</td> \n",
       "        <td id=\"T_c13d99ee_aa59_11e8_a779_d85de29bbfacrow6_col3\" class=\"data row6 col3\" >0.097</td> \n",
       "        <td id=\"T_c13d99ee_aa59_11e8_a779_d85de29bbfacrow6_col4\" class=\"data row6 col4\" >0.16</td> \n",
       "        <td id=\"T_c13d99ee_aa59_11e8_a779_d85de29bbfacrow6_col5\" class=\"data row6 col5\" >0.22</td> \n",
       "        <td id=\"T_c13d99ee_aa59_11e8_a779_d85de29bbfacrow6_col6\" class=\"data row6 col6\" >1</td> \n",
       "        <td id=\"T_c13d99ee_aa59_11e8_a779_d85de29bbfacrow6_col7\" class=\"data row6 col7\" >0.062</td> \n",
       "        <td id=\"T_c13d99ee_aa59_11e8_a779_d85de29bbfacrow6_col8\" class=\"data row6 col8\" >0.22</td> \n",
       "    </tr>    <tr> \n",
       "        <th id=\"T_c13d99ee_aa59_11e8_a779_d85de29bbfaclevel0_row7\" class=\"row_heading level0 row7\" >Embarked</th> \n",
       "        <td id=\"T_c13d99ee_aa59_11e8_a779_d85de29bbfacrow7_col0\" class=\"data row7 col0\" >0.11</td> \n",
       "        <td id=\"T_c13d99ee_aa59_11e8_a779_d85de29bbfacrow7_col1\" class=\"data row7 col1\" >0.046</td> \n",
       "        <td id=\"T_c13d99ee_aa59_11e8_a779_d85de29bbfacrow7_col2\" class=\"data row7 col2\" >0.12</td> \n",
       "        <td id=\"T_c13d99ee_aa59_11e8_a779_d85de29bbfacrow7_col3\" class=\"data row7 col3\" >-0.0092</td> \n",
       "        <td id=\"T_c13d99ee_aa59_11e8_a779_d85de29bbfacrow7_col4\" class=\"data row7 col4\" >-0.06</td> \n",
       "        <td id=\"T_c13d99ee_aa59_11e8_a779_d85de29bbfacrow7_col5\" class=\"data row7 col5\" >-0.079</td> \n",
       "        <td id=\"T_c13d99ee_aa59_11e8_a779_d85de29bbfacrow7_col6\" class=\"data row7 col6\" >0.062</td> \n",
       "        <td id=\"T_c13d99ee_aa59_11e8_a779_d85de29bbfacrow7_col7\" class=\"data row7 col7\" >1</td> \n",
       "        <td id=\"T_c13d99ee_aa59_11e8_a779_d85de29bbfacrow7_col8\" class=\"data row7 col8\" >-0.08</td> \n",
       "    </tr>    <tr> \n",
       "        <th id=\"T_c13d99ee_aa59_11e8_a779_d85de29bbfaclevel0_row8\" class=\"row_heading level0 row8\" >FamSize</th> \n",
       "        <td id=\"T_c13d99ee_aa59_11e8_a779_d85de29bbfacrow8_col0\" class=\"data row8 col0\" >0.017</td> \n",
       "        <td id=\"T_c13d99ee_aa59_11e8_a779_d85de29bbfacrow8_col1\" class=\"data row8 col1\" >0.066</td> \n",
       "        <td id=\"T_c13d99ee_aa59_11e8_a779_d85de29bbfacrow8_col2\" class=\"data row8 col2\" >0.2</td> \n",
       "        <td id=\"T_c13d99ee_aa59_11e8_a779_d85de29bbfacrow8_col3\" class=\"data row8 col3\" >-0.25</td> \n",
       "        <td id=\"T_c13d99ee_aa59_11e8_a779_d85de29bbfacrow8_col4\" class=\"data row8 col4\" >0.89</td> \n",
       "        <td id=\"T_c13d99ee_aa59_11e8_a779_d85de29bbfacrow8_col5\" class=\"data row8 col5\" >0.78</td> \n",
       "        <td id=\"T_c13d99ee_aa59_11e8_a779_d85de29bbfacrow8_col6\" class=\"data row8 col6\" >0.22</td> \n",
       "        <td id=\"T_c13d99ee_aa59_11e8_a779_d85de29bbfacrow8_col7\" class=\"data row8 col7\" >-0.08</td> \n",
       "        <td id=\"T_c13d99ee_aa59_11e8_a779_d85de29bbfacrow8_col8\" class=\"data row8 col8\" >1</td> \n",
       "    </tr></tbody> \n",
       "</table> "
      ],
      "text/plain": [
       "<pandas.io.formats.style.Styler at 0x1fe4c150518>"
      ]
     },
     "execution_count": 23,
     "metadata": {},
     "output_type": "execute_result"
    }
   ],
   "source": [
    "cmap = cmap=sns.diverging_palette(5, 250, as_cmap=True)\n",
    "\n",
    "def magnify():\n",
    "    return [dict(selector=\"th\",\n",
    "                 props=[(\"font-size\", \"7pt\")]),\n",
    "            dict(selector=\"td\",\n",
    "                 props=[('padding', \"0em 0em\")]),\n",
    "            dict(selector=\"th:hover\",\n",
    "                 props=[(\"font-size\", \"12pt\")]),\n",
    "            dict(selector=\"tr:hover td:hover\",\n",
    "                 props=[('max-width', '200px'),\n",
    "                        ('font-size', '12pt')])\n",
    "]\n",
    "\n",
    "corr.style.background_gradient(cmap, axis=1)\\\n",
    "    .set_properties(**{'max-width': '80px', 'font-size': '10pt'})\\\n",
    "    .set_caption(\"Hover to magify\")\\\n",
    "    .set_precision(2)\\\n",
    "    .set_table_styles(magnify())"
   ]
  },
  {
   "cell_type": "code",
   "execution_count": 24,
   "metadata": {},
   "outputs": [],
   "source": [
    "df_train = df_train.drop(['SibSp', 'Parch'], axis=1)\n",
    "df_test = df_test.drop(['SibSp', 'Parch'], axis=1)"
   ]
  },
  {
   "cell_type": "code",
   "execution_count": 25,
   "metadata": {},
   "outputs": [
    {
     "data": {
      "text/html": [
       "<div>\n",
       "<style scoped>\n",
       "    .dataframe tbody tr th:only-of-type {\n",
       "        vertical-align: middle;\n",
       "    }\n",
       "\n",
       "    .dataframe tbody tr th {\n",
       "        vertical-align: top;\n",
       "    }\n",
       "\n",
       "    .dataframe thead th {\n",
       "        text-align: right;\n",
       "    }\n",
       "</style>\n",
       "<table border=\"1\" class=\"dataframe\">\n",
       "  <thead>\n",
       "    <tr style=\"text-align: right;\">\n",
       "      <th></th>\n",
       "      <th>Pclass</th>\n",
       "      <th>Sex</th>\n",
       "      <th>Age</th>\n",
       "      <th>Fare</th>\n",
       "      <th>Embarked</th>\n",
       "      <th>FamSize</th>\n",
       "    </tr>\n",
       "  </thead>\n",
       "  <tbody>\n",
       "    <tr>\n",
       "      <th>count</th>\n",
       "      <td>418.000000</td>\n",
       "      <td>418.000000</td>\n",
       "      <td>418.000000</td>\n",
       "      <td>418.000000</td>\n",
       "      <td>418.000000</td>\n",
       "      <td>418.000000</td>\n",
       "    </tr>\n",
       "    <tr>\n",
       "      <th>mean</th>\n",
       "      <td>2.265550</td>\n",
       "      <td>0.363636</td>\n",
       "      <td>29.805024</td>\n",
       "      <td>35.576535</td>\n",
       "      <td>0.464115</td>\n",
       "      <td>1.839713</td>\n",
       "    </tr>\n",
       "    <tr>\n",
       "      <th>std</th>\n",
       "      <td>0.841838</td>\n",
       "      <td>0.481622</td>\n",
       "      <td>12.667969</td>\n",
       "      <td>55.850103</td>\n",
       "      <td>0.685516</td>\n",
       "      <td>1.519072</td>\n",
       "    </tr>\n",
       "    <tr>\n",
       "      <th>min</th>\n",
       "      <td>1.000000</td>\n",
       "      <td>0.000000</td>\n",
       "      <td>0.170000</td>\n",
       "      <td>0.000000</td>\n",
       "      <td>0.000000</td>\n",
       "      <td>1.000000</td>\n",
       "    </tr>\n",
       "    <tr>\n",
       "      <th>25%</th>\n",
       "      <td>1.000000</td>\n",
       "      <td>0.000000</td>\n",
       "      <td>23.000000</td>\n",
       "      <td>7.895800</td>\n",
       "      <td>0.000000</td>\n",
       "      <td>1.000000</td>\n",
       "    </tr>\n",
       "    <tr>\n",
       "      <th>50%</th>\n",
       "      <td>3.000000</td>\n",
       "      <td>0.000000</td>\n",
       "      <td>28.000000</td>\n",
       "      <td>14.454200</td>\n",
       "      <td>0.000000</td>\n",
       "      <td>1.000000</td>\n",
       "    </tr>\n",
       "    <tr>\n",
       "      <th>75%</th>\n",
       "      <td>3.000000</td>\n",
       "      <td>1.000000</td>\n",
       "      <td>35.750000</td>\n",
       "      <td>31.471875</td>\n",
       "      <td>1.000000</td>\n",
       "      <td>2.000000</td>\n",
       "    </tr>\n",
       "    <tr>\n",
       "      <th>max</th>\n",
       "      <td>3.000000</td>\n",
       "      <td>1.000000</td>\n",
       "      <td>76.000000</td>\n",
       "      <td>512.329200</td>\n",
       "      <td>2.000000</td>\n",
       "      <td>11.000000</td>\n",
       "    </tr>\n",
       "  </tbody>\n",
       "</table>\n",
       "</div>"
      ],
      "text/plain": [
       "           Pclass         Sex         Age        Fare    Embarked     FamSize\n",
       "count  418.000000  418.000000  418.000000  418.000000  418.000000  418.000000\n",
       "mean     2.265550    0.363636   29.805024   35.576535    0.464115    1.839713\n",
       "std      0.841838    0.481622   12.667969   55.850103    0.685516    1.519072\n",
       "min      1.000000    0.000000    0.170000    0.000000    0.000000    1.000000\n",
       "25%      1.000000    0.000000   23.000000    7.895800    0.000000    1.000000\n",
       "50%      3.000000    0.000000   28.000000   14.454200    0.000000    1.000000\n",
       "75%      3.000000    1.000000   35.750000   31.471875    1.000000    2.000000\n",
       "max      3.000000    1.000000   76.000000  512.329200    2.000000   11.000000"
      ]
     },
     "execution_count": 25,
     "metadata": {},
     "output_type": "execute_result"
    }
   ],
   "source": [
    "df_test.describe()"
   ]
  },
  {
   "cell_type": "code",
   "execution_count": 26,
   "metadata": {},
   "outputs": [],
   "source": [
    "from sklearn import preprocessing\n",
    "import matplotlib\n",
    "matplotlib.style.use('ggplot')"
   ]
  },
  {
   "cell_type": "code",
   "execution_count": 27,
   "metadata": {},
   "outputs": [],
   "source": [
    "scaler = preprocessing.RobustScaler()\n",
    "scaled_df = scaler.fit_transform(df_train)\n",
    "scaled_df = pd.DataFrame(scaled_df, columns=['Survived', 'Pclass', 'Sex', 'Age', 'Fare', 'Embarked', 'FamSize'])"
   ]
  },
  {
   "cell_type": "code",
   "execution_count": 28,
   "metadata": {},
   "outputs": [
    {
     "data": {
      "image/png": "[encoded data removed]",
      "text/plain": [
       "<Figure size 576x504 with 2 Axes>"
      ]
     },
     "metadata": {},
     "output_type": "display_data"
    }
   ],
   "source": [
    "fig, (ax1, ax2) = plt.subplots(ncols=2, figsize=(8, 7))\n",
    "\n",
    "ax1.set_title('Before Scaling')\n",
    "sns.kdeplot(df_train['Survived'], ax=ax1)\n",
    "sns.kdeplot(df_train['Pclass'], ax=ax1)\n",
    "sns.kdeplot(df_train['Sex'], ax=ax1)\n",
    "sns.kdeplot(df_train['Age'], ax=ax1)\n",
    "sns.kdeplot(df_train['Fare'], ax=ax1)\n",
    "sns.kdeplot(df_train['Embarked'], ax=ax1)\n",
    "sns.kdeplot(df_train['FamSize'], ax=ax1)\n",
    "ax2.set_title('After Standard Scaler')\n",
    "sns.kdeplot(scaled_df['Survived'], ax=ax2)\n",
    "sns.kdeplot(scaled_df['Pclass'], ax=ax2)\n",
    "sns.kdeplot(scaled_df['Sex'], ax=ax2)\n",
    "sns.kdeplot(scaled_df['Age'], ax=ax2)\n",
    "sns.kdeplot(scaled_df['Fare'], ax=ax2)\n",
    "sns.kdeplot(scaled_df['Embarked'], ax=ax2)\n",
    "sns.kdeplot(scaled_df['FamSize'], ax=ax2)\n",
    "plt.show()"
   ]
  },
  {
   "cell_type": "code",
   "execution_count": 29,
   "metadata": {},
   "outputs": [
    {
     "data": {
      "text/html": [
       "<div>\n",
       "<style scoped>\n",
       "    .dataframe tbody tr th:only-of-type {\n",
       "        vertical-align: middle;\n",
       "    }\n",
       "\n",
       "    .dataframe tbody tr th {\n",
       "        vertical-align: top;\n",
       "    }\n",
       "\n",
       "    .dataframe thead th {\n",
       "        text-align: right;\n",
       "    }\n",
       "</style>\n",
       "<table border=\"1\" class=\"dataframe\">\n",
       "  <thead>\n",
       "    <tr style=\"text-align: right;\">\n",
       "      <th></th>\n",
       "      <th>Survived</th>\n",
       "      <th>Pclass</th>\n",
       "      <th>Sex</th>\n",
       "      <th>Age</th>\n",
       "      <th>Fare</th>\n",
       "      <th>Embarked</th>\n",
       "      <th>FamSize</th>\n",
       "    </tr>\n",
       "  </thead>\n",
       "  <tbody>\n",
       "    <tr>\n",
       "      <th>0</th>\n",
       "      <td>0.0</td>\n",
       "      <td>0.0</td>\n",
       "      <td>0.0</td>\n",
       "      <td>-0.461538</td>\n",
       "      <td>-0.312011</td>\n",
       "      <td>0.0</td>\n",
       "      <td>1.0</td>\n",
       "    </tr>\n",
       "    <tr>\n",
       "      <th>1</th>\n",
       "      <td>1.0</td>\n",
       "      <td>-2.0</td>\n",
       "      <td>1.0</td>\n",
       "      <td>0.769231</td>\n",
       "      <td>2.461242</td>\n",
       "      <td>1.0</td>\n",
       "      <td>1.0</td>\n",
       "    </tr>\n",
       "    <tr>\n",
       "      <th>2</th>\n",
       "      <td>1.0</td>\n",
       "      <td>0.0</td>\n",
       "      <td>1.0</td>\n",
       "      <td>-0.153846</td>\n",
       "      <td>-0.282777</td>\n",
       "      <td>0.0</td>\n",
       "      <td>0.0</td>\n",
       "    </tr>\n",
       "    <tr>\n",
       "      <th>3</th>\n",
       "      <td>1.0</td>\n",
       "      <td>-2.0</td>\n",
       "      <td>1.0</td>\n",
       "      <td>0.538462</td>\n",
       "      <td>1.673732</td>\n",
       "      <td>0.0</td>\n",
       "      <td>1.0</td>\n",
       "    </tr>\n",
       "    <tr>\n",
       "      <th>4</th>\n",
       "      <td>0.0</td>\n",
       "      <td>0.0</td>\n",
       "      <td>0.0</td>\n",
       "      <td>0.538462</td>\n",
       "      <td>-0.277363</td>\n",
       "      <td>0.0</td>\n",
       "      <td>0.0</td>\n",
       "    </tr>\n",
       "  </tbody>\n",
       "</table>\n",
       "</div>"
      ],
      "text/plain": [
       "   Survived  Pclass  Sex       Age      Fare  Embarked  FamSize\n",
       "0       0.0     0.0  0.0 -0.461538 -0.312011       0.0      1.0\n",
       "1       1.0    -2.0  1.0  0.769231  2.461242       1.0      1.0\n",
       "2       1.0     0.0  1.0 -0.153846 -0.282777       0.0      0.0\n",
       "3       1.0    -2.0  1.0  0.538462  1.673732       0.0      1.0\n",
       "4       0.0     0.0  0.0  0.538462 -0.277363       0.0      0.0"
      ]
     },
     "execution_count": 29,
     "metadata": {},
     "output_type": "execute_result"
    }
   ],
   "source": [
    "scaled_df.head()"
   ]
  },
  {
   "cell_type": "markdown",
   "metadata": {},
   "source": [
    "# Making the prediction"
   ]
  },
  {
   "cell_type": "code",
   "execution_count": 30,
   "metadata": {},
   "outputs": [],
   "source": [
    "X = df_train.iloc[:, 1:].values\n",
    "Xtest = df_test.iloc[:,:].values \n",
    "y = df_train.iloc[:, 0].values\n"
   ]
  },
  {
   "cell_type": "code",
   "execution_count": 31,
   "metadata": {},
   "outputs": [],
   "source": [
    "# Splitting the dataset into the Training set and Test set\n",
    "from sklearn.model_selection import train_test_split\n",
    "X_train, X_test, y_train, y_test = train_test_split(X, y, test_size = 0.20, random_state = 34, stratify=y)"
   ]
  },
  {
   "cell_type": "code",
   "execution_count": 32,
   "metadata": {},
   "outputs": [
    {
     "data": {
      "text/plain": [
       "LogisticRegression(C=1.0, class_weight=None, dual=False, fit_intercept=True,\n",
       "          intercept_scaling=1, max_iter=100, multi_class='ovr', n_jobs=1,\n",
       "          penalty='l2', random_state=34, solver='liblinear', tol=0.0001,\n",
       "          verbose=0, warm_start=False)"
      ]
     },
     "execution_count": 32,
     "metadata": {},
     "output_type": "execute_result"
    }
   ],
   "source": [
    "# Fitting Logistic Regression to the Training set\n",
    "from sklearn.linear_model import LogisticRegression\n",
    "logreg = LogisticRegression(random_state = 34)\n",
    "logreg.fit(X_train, y_train)"
   ]
  },
  {
   "cell_type": "code",
   "execution_count": 33,
   "metadata": {},
   "outputs": [],
   "source": [
    "# Predicting the Test set results\n",
    "y_pred = logreg.predict(X_test)\n"
   ]
  },
  {
   "cell_type": "code",
   "execution_count": 34,
   "metadata": {},
   "outputs": [
    {
     "name": "stdout",
     "output_type": "stream",
     "text": [
      "[[92 18]\n",
      " [23 46]]\n",
      "             precision    recall  f1-score   support\n",
      "\n",
      "          0       0.80      0.84      0.82       110\n",
      "          1       0.72      0.67      0.69        69\n",
      "\n",
      "avg / total       0.77      0.77      0.77       179\n",
      "\n"
     ]
    }
   ],
   "source": [
    "# Making the Confusion Matrix\n",
    "from sklearn.metrics import confusion_matrix, classification_report\n",
    "cm = confusion_matrix(y_test, y_pred)\n",
    "cr = classification_report(y_test, y_pred)\n",
    "print(cm)\n",
    "print(cr)"
   ]
  },
  {
   "cell_type": "code",
   "execution_count": 35,
   "metadata": {},
   "outputs": [
    {
     "data": {
      "text/plain": [
       "0.770949720670391"
      ]
     },
     "execution_count": 35,
     "metadata": {},
     "output_type": "execute_result"
    }
   ],
   "source": [
    "logreg.score(X_test, y_test)"
   ]
  },
  {
   "cell_type": "code",
   "execution_count": 36,
   "metadata": {},
   "outputs": [
    {
     "data": {
      "text/plain": [
       "0.8103932584269663"
      ]
     },
     "execution_count": 36,
     "metadata": {},
     "output_type": "execute_result"
    }
   ],
   "source": [
    "logreg.score(X_train, y_train)"
   ]
  },
  {
   "cell_type": "code",
   "execution_count": 37,
   "metadata": {},
   "outputs": [
    {
     "data": {
      "text/plain": [
       "0.8175230566534916"
      ]
     },
     "execution_count": 37,
     "metadata": {},
     "output_type": "execute_result"
    }
   ],
   "source": [
    "from sklearn.metrics import roc_auc_score\n",
    "y_pred_prob =logreg.predict_proba(X_test)[:,1]\n",
    "roc_auc_score(y_test, y_pred_prob)"
   ]
  },
  {
   "cell_type": "code",
   "execution_count": 38,
   "metadata": {},
   "outputs": [
    {
     "data": {
      "image/png": "[encoded data removed]",
      "text/plain": [
       "<Figure size 432x288 with 1 Axes>"
      ]
     },
     "metadata": {},
     "output_type": "display_data"
    }
   ],
   "source": [
    "# Plotting the ROC curve\n",
    "from sklearn.metrics import roc_curve\n",
    "fpr, tpr, thresholds = roc_curve(y_test, y_pred_prob)\n",
    "plt.plot([0, 1], [0, 1], 'k--')\n",
    "plt.plot(fpr, tpr, label='Logistic Regression')\n",
    "plt.xlabel('False Positive Rate')\n",
    "plt.ylabel('True Positive Rate')\n",
    "plt.title('Logistic Regression ROC Curve')\n",
    "plt.show()"
   ]
  },
  {
   "cell_type": "code",
   "execution_count": 39,
   "metadata": {},
   "outputs": [
    {
     "data": {
      "text/plain": [
       "KNeighborsClassifier(algorithm='auto', leaf_size=30, metric='minkowski',\n",
       "           metric_params=None, n_jobs=1, n_neighbors=6, p=2,\n",
       "           weights='uniform')"
      ]
     },
     "execution_count": 39,
     "metadata": {},
     "output_type": "execute_result"
    }
   ],
   "source": [
    "# Fitting k-Nearest Neighbors to the Training set\n",
    "from sklearn.neighbors import KNeighborsClassifier\n",
    "knn = KNeighborsClassifier(n_neighbors=6)\n",
    "knn.fit(X_train, y_train)"
   ]
  },
  {
   "cell_type": "code",
   "execution_count": 40,
   "metadata": {},
   "outputs": [],
   "source": [
    "# Predicting the Test set results\n",
    "y_pred2 = knn.predict(X_test)"
   ]
  },
  {
   "cell_type": "code",
   "execution_count": 41,
   "metadata": {},
   "outputs": [
    {
     "name": "stdout",
     "output_type": "stream",
     "text": [
      "[[91 19]\n",
      " [35 34]]\n",
      "             precision    recall  f1-score   support\n",
      "\n",
      "          0       0.72      0.83      0.77       110\n",
      "          1       0.64      0.49      0.56        69\n",
      "\n",
      "avg / total       0.69      0.70      0.69       179\n",
      "\n"
     ]
    }
   ],
   "source": [
    "# Making the Confusion Matrix\n",
    "from sklearn.metrics import confusion_matrix, classification_report, log_loss\n",
    "cm2 = confusion_matrix(y_test, y_pred2)\n",
    "cr2 = classification_report(y_test, y_pred2)\n",
    "print(cm2)\n",
    "print(cr2)"
   ]
  },
  {
   "cell_type": "code",
   "execution_count": 42,
   "metadata": {},
   "outputs": [
    {
     "data": {
      "text/plain": [
       "0.6983240223463687"
      ]
     },
     "execution_count": 42,
     "metadata": {},
     "output_type": "execute_result"
    }
   ],
   "source": [
    "knn.score(X_test, y_test)"
   ]
  },
  {
   "cell_type": "code",
   "execution_count": 43,
   "metadata": {},
   "outputs": [
    {
     "data": {
      "text/plain": [
       "7.91119678740269"
      ]
     },
     "execution_count": 43,
     "metadata": {},
     "output_type": "execute_result"
    }
   ],
   "source": [
    "log_loss(y_test, y_pred)"
   ]
  },
  {
   "cell_type": "code",
   "execution_count": 44,
   "metadata": {},
   "outputs": [
    {
     "data": {
      "text/plain": [
       "10.419604009365088"
      ]
     },
     "execution_count": 44,
     "metadata": {},
     "output_type": "execute_result"
    }
   ],
   "source": [
    "log_loss(y_test, y_pred2)"
   ]
  },
  {
   "cell_type": "code",
   "execution_count": 45,
   "metadata": {},
   "outputs": [
    {
     "data": {
      "text/plain": [
       "LogisticRegression(C=1.0, class_weight=None, dual=False, fit_intercept=True,\n",
       "          intercept_scaling=1, max_iter=100, multi_class='ovr', n_jobs=1,\n",
       "          penalty='l2', random_state=34, solver='liblinear', tol=0.0001,\n",
       "          verbose=0, warm_start=False)"
      ]
     },
     "execution_count": 45,
     "metadata": {},
     "output_type": "execute_result"
    }
   ],
   "source": [
    "logreg.fit(X, y)"
   ]
  },
  {
   "cell_type": "code",
   "execution_count": 46,
   "metadata": {},
   "outputs": [],
   "source": [
    "y_predict = logreg.predict(Xtest)"
   ]
  },
  {
   "cell_type": "code",
   "execution_count": 47,
   "metadata": {},
   "outputs": [],
   "source": [
    "submission = pd.DataFrame({\n",
    "        \"PassengerId\": test[\"PassengerId\"],\n",
    "        \"Survived\": y_predict\n",
    "    })\n",
    "submission.to_csv('my_solution_4.csv', index=False)"
   ]
  },
  {
   "cell_type": "code",
   "execution_count": 48,
   "metadata": {},
   "outputs": [
    {
     "data": {
      "text/html": [
       "<div>\n",
       "<style scoped>\n",
       "    .dataframe tbody tr th:only-of-type {\n",
       "        vertical-align: middle;\n",
       "    }\n",
       "\n",
       "    .dataframe tbody tr th {\n",
       "        vertical-align: top;\n",
       "    }\n",
       "\n",
       "    .dataframe thead th {\n",
       "        text-align: right;\n",
       "    }\n",
       "</style>\n",
       "<table border=\"1\" class=\"dataframe\">\n",
       "  <thead>\n",
       "    <tr style=\"text-align: right;\">\n",
       "      <th></th>\n",
       "      <th>PassengerId</th>\n",
       "      <th>Survived</th>\n",
       "    </tr>\n",
       "  </thead>\n",
       "  <tbody>\n",
       "    <tr>\n",
       "      <th>0</th>\n",
       "      <td>892</td>\n",
       "      <td>0</td>\n",
       "    </tr>\n",
       "    <tr>\n",
       "      <th>1</th>\n",
       "      <td>893</td>\n",
       "      <td>0</td>\n",
       "    </tr>\n",
       "    <tr>\n",
       "      <th>2</th>\n",
       "      <td>894</td>\n",
       "      <td>0</td>\n",
       "    </tr>\n",
       "    <tr>\n",
       "      <th>3</th>\n",
       "      <td>895</td>\n",
       "      <td>0</td>\n",
       "    </tr>\n",
       "    <tr>\n",
       "      <th>4</th>\n",
       "      <td>896</td>\n",
       "      <td>1</td>\n",
       "    </tr>\n",
       "  </tbody>\n",
       "</table>\n",
       "</div>"
      ],
      "text/plain": [
       "   PassengerId  Survived\n",
       "0          892         0\n",
       "1          893         0\n",
       "2          894         0\n",
       "3          895         0\n",
       "4          896         1"
      ]
     },
     "execution_count": 48,
     "metadata": {},
     "output_type": "execute_result"
    }
   ],
   "source": [
    "submission.head()"
   ]
  },
  {
   "cell_type": "markdown",
   "metadata": {},
   "source": [
    "def get_title(name):\n",
    "\ttitle_search = re.search(' ([A-Za-z]+)\\.', name)\n",
    "\t# If the title exists, extract and return it.\n",
    "\tif title_search:\n",
    "\t\treturn title_search.group(1)\n",
    "\treturn \"\"\n",
    "\n",
    "for dataset in full_data:\n",
    "    dataset['Title'] = dataset['Name'].apply(get_title)\n",
    "\n",
    "print(pd.crosstab(train['Title'], train['Sex']))"
   ]
  },
  {
   "cell_type": "code",
   "execution_count": null,
   "metadata": {},
   "outputs": [],
   "source": []
  }
 ],
 "metadata": {
  "kernelspec": {
   "display_name": "Python 3",
   "language": "python",
   "name": "python3"
  },
  "language_info": {
   "codemirror_mode": {
    "name": "ipython",
    "version": 3
   },
   "file_extension": ".py",
   "mimetype": "text/x-python",
   "name": "python",
   "nbconvert_exporter": "python",
   "pygments_lexer": "ipython3",
   "version": "3.6.6"
  }
 },
 "nbformat": 4,
 "nbformat_minor": 2
}
