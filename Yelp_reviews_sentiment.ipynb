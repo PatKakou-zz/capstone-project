{
 "cells": [
  {
   "cell_type": "code",
   "execution_count": 1,
   "metadata": {},
   "outputs": [],
   "source": [
    "import numpy as np\n",
    "import pandas as pd\n",
    "import matplotlib.pyplot as plt\n",
    "import seaborn as sns\n",
    "\n",
    "%matplotlib inline\n",
    "%run sentiment.py"
   ]
  },
  {
   "cell_type": "code",
   "execution_count": 2,
   "metadata": {},
   "outputs": [],
   "source": [
    "review = pd.read_csv(\"yelp_toronto_review.csv\")"
   ]
  },
  {
   "cell_type": "code",
   "execution_count": 3,
   "metadata": {},
   "outputs": [
    {
     "name": "stdout",
     "output_type": "stream",
     "text": [
      "<class 'pandas.core.frame.DataFrame'>\n",
      "RangeIndex: 474803 entries, 0 to 474802\n",
      "Data columns (total 9 columns):\n",
      "review_id      474803 non-null object\n",
      "user_id        474803 non-null object\n",
      "business_id    474803 non-null object\n",
      "stars          474803 non-null int64\n",
      "date           474803 non-null object\n",
      "text           474803 non-null object\n",
      "useful         474803 non-null int64\n",
      "funny          474803 non-null int64\n",
      "cool           474803 non-null int64\n",
      "dtypes: int64(4), object(5)\n",
      "memory usage: 32.6+ MB\n"
     ]
    }
   ],
   "source": [
    "review.info()"
   ]
  },
  {
   "cell_type": "code",
   "execution_count": 4,
   "metadata": {},
   "outputs": [
    {
     "data": {
      "text/html": [
       "<div>\n",
       "<style scoped>\n",
       "    .dataframe tbody tr th:only-of-type {\n",
       "        vertical-align: middle;\n",
       "    }\n",
       "\n",
       "    .dataframe tbody tr th {\n",
       "        vertical-align: top;\n",
       "    }\n",
       "\n",
       "    .dataframe thead th {\n",
       "        text-align: right;\n",
       "    }\n",
       "</style>\n",
       "<table border=\"1\" class=\"dataframe\">\n",
       "  <thead>\n",
       "    <tr style=\"text-align: right;\">\n",
       "      <th></th>\n",
       "      <th>review_id</th>\n",
       "      <th>user_id</th>\n",
       "      <th>business_id</th>\n",
       "      <th>stars</th>\n",
       "      <th>date</th>\n",
       "      <th>text</th>\n",
       "      <th>useful</th>\n",
       "      <th>funny</th>\n",
       "      <th>cool</th>\n",
       "    </tr>\n",
       "  </thead>\n",
       "  <tbody>\n",
       "    <tr>\n",
       "      <th>0</th>\n",
       "      <td>kS4hrhEScwB9V5JATYjvVQ</td>\n",
       "      <td>hxqo4NyJFfeOmuoVi--s1A</td>\n",
       "      <td>f5O7v_X_jCg2itqacRfxhg</td>\n",
       "      <td>5</td>\n",
       "      <td>2017-10-12</td>\n",
       "      <td>Sansotei serves some top notch ramen. They tak...</td>\n",
       "      <td>0</td>\n",
       "      <td>0</td>\n",
       "      <td>0</td>\n",
       "    </tr>\n",
       "    <tr>\n",
       "      <th>1</th>\n",
       "      <td>YDJDfKnx6VpMMo4EBxycGg</td>\n",
       "      <td>FCtoTo9zSH1cSAkascfEHw</td>\n",
       "      <td>7xA6iSP0Ndn08tpBFQtUKA</td>\n",
       "      <td>1</td>\n",
       "      <td>2017-05-22</td>\n",
       "      <td>Non-existened service!  The waiter did not eve...</td>\n",
       "      <td>0</td>\n",
       "      <td>0</td>\n",
       "      <td>0</td>\n",
       "    </tr>\n",
       "    <tr>\n",
       "      <th>2</th>\n",
       "      <td>2Hk7DNwu3rb2jKHaFfPyCA</td>\n",
       "      <td>YHWsLBS8jzZiPjKHMFOaAA</td>\n",
       "      <td>SmizR7MLt-558FJJQRBBoQ</td>\n",
       "      <td>4</td>\n",
       "      <td>2011-06-01</td>\n",
       "      <td>It might be a bit unfair to review Globe so ea...</td>\n",
       "      <td>1</td>\n",
       "      <td>1</td>\n",
       "      <td>1</td>\n",
       "    </tr>\n",
       "    <tr>\n",
       "      <th>3</th>\n",
       "      <td>D2TcNaPqXxDGQ6T0n-vHXw</td>\n",
       "      <td>YHWsLBS8jzZiPjKHMFOaAA</td>\n",
       "      <td>iKMLsX1Je7P3wAOEc9scDg</td>\n",
       "      <td>4</td>\n",
       "      <td>2011-11-07</td>\n",
       "      <td>I have been itching to get to Origin for month...</td>\n",
       "      <td>4</td>\n",
       "      <td>0</td>\n",
       "      <td>0</td>\n",
       "    </tr>\n",
       "    <tr>\n",
       "      <th>4</th>\n",
       "      <td>Vtd6Tqm7YMfRTBFLtZIoOQ</td>\n",
       "      <td>YHWsLBS8jzZiPjKHMFOaAA</td>\n",
       "      <td>qhJ4GDULYbdb_sctDgbZgw</td>\n",
       "      <td>2</td>\n",
       "      <td>2011-08-20</td>\n",
       "      <td>Alright, alright, so as it turns out I sometim...</td>\n",
       "      <td>0</td>\n",
       "      <td>0</td>\n",
       "      <td>0</td>\n",
       "    </tr>\n",
       "  </tbody>\n",
       "</table>\n",
       "</div>"
      ],
      "text/plain": [
       "                review_id                 user_id             business_id  \\\n",
       "0  kS4hrhEScwB9V5JATYjvVQ  hxqo4NyJFfeOmuoVi--s1A  f5O7v_X_jCg2itqacRfxhg   \n",
       "1  YDJDfKnx6VpMMo4EBxycGg  FCtoTo9zSH1cSAkascfEHw  7xA6iSP0Ndn08tpBFQtUKA   \n",
       "2  2Hk7DNwu3rb2jKHaFfPyCA  YHWsLBS8jzZiPjKHMFOaAA  SmizR7MLt-558FJJQRBBoQ   \n",
       "3  D2TcNaPqXxDGQ6T0n-vHXw  YHWsLBS8jzZiPjKHMFOaAA  iKMLsX1Je7P3wAOEc9scDg   \n",
       "4  Vtd6Tqm7YMfRTBFLtZIoOQ  YHWsLBS8jzZiPjKHMFOaAA  qhJ4GDULYbdb_sctDgbZgw   \n",
       "\n",
       "   stars        date                                               text  \\\n",
       "0      5  2017-10-12  Sansotei serves some top notch ramen. They tak...   \n",
       "1      1  2017-05-22  Non-existened service!  The waiter did not eve...   \n",
       "2      4  2011-06-01  It might be a bit unfair to review Globe so ea...   \n",
       "3      4  2011-11-07  I have been itching to get to Origin for month...   \n",
       "4      2  2011-08-20  Alright, alright, so as it turns out I sometim...   \n",
       "\n",
       "   useful  funny  cool  \n",
       "0       0      0     0  \n",
       "1       0      0     0  \n",
       "2       1      1     1  \n",
       "3       4      0     0  \n",
       "4       0      0     0  "
      ]
     },
     "execution_count": 4,
     "metadata": {},
     "output_type": "execute_result"
    }
   ],
   "source": [
    "review.head()"
   ]
  },
  {
   "cell_type": "code",
   "execution_count": 5,
   "metadata": {},
   "outputs": [],
   "source": [
    "#Initialize function for sentiment score\n",
    "s = SentimentAnalysis(filename='SentiWordNet.txt',weighting='geometric')"
   ]
  },
  {
   "cell_type": "code",
   "execution_count": 6,
   "metadata": {},
   "outputs": [],
   "source": [
    "review['senti_score'] = review.text.iloc[:].apply(lambda x: s.score(x))"
   ]
  },
  {
   "cell_type": "code",
   "execution_count": 8,
   "metadata": {},
   "outputs": [
    {
     "data": {
      "text/html": [
       "<div>\n",
       "<style scoped>\n",
       "    .dataframe tbody tr th:only-of-type {\n",
       "        vertical-align: middle;\n",
       "    }\n",
       "\n",
       "    .dataframe tbody tr th {\n",
       "        vertical-align: top;\n",
       "    }\n",
       "\n",
       "    .dataframe thead th {\n",
       "        text-align: right;\n",
       "    }\n",
       "</style>\n",
       "<table border=\"1\" class=\"dataframe\">\n",
       "  <thead>\n",
       "    <tr style=\"text-align: right;\">\n",
       "      <th></th>\n",
       "      <th>review_id</th>\n",
       "      <th>user_id</th>\n",
       "      <th>business_id</th>\n",
       "      <th>stars</th>\n",
       "      <th>date</th>\n",
       "      <th>text</th>\n",
       "      <th>useful</th>\n",
       "      <th>funny</th>\n",
       "      <th>cool</th>\n",
       "      <th>senti_score</th>\n",
       "    </tr>\n",
       "  </thead>\n",
       "  <tbody>\n",
       "    <tr>\n",
       "      <th>474798</th>\n",
       "      <td>9YrHtJcAhC6ZNuzp6SGc9w</td>\n",
       "      <td>uDGQYAIUSne3LKKhTAvKLg</td>\n",
       "      <td>WbS58nfQQZaxWk1BUPBuJQ</td>\n",
       "      <td>4</td>\n",
       "      <td>2017-07-07</td>\n",
       "      <td>Delicious food with many healthy options to ch...</td>\n",
       "      <td>0</td>\n",
       "      <td>0</td>\n",
       "      <td>0</td>\n",
       "      <td>0.078622</td>\n",
       "    </tr>\n",
       "    <tr>\n",
       "      <th>474799</th>\n",
       "      <td>jQ0UKnDQUYpRQoJRrzo5Mw</td>\n",
       "      <td>uDGQYAIUSne3LKKhTAvKLg</td>\n",
       "      <td>hGBdtLUHanbw6rMRoMxUSQ</td>\n",
       "      <td>5</td>\n",
       "      <td>2017-07-07</td>\n",
       "      <td>I have never had a hair cut from the person wh...</td>\n",
       "      <td>0</td>\n",
       "      <td>0</td>\n",
       "      <td>0</td>\n",
       "      <td>0.004472</td>\n",
       "    </tr>\n",
       "    <tr>\n",
       "      <th>474800</th>\n",
       "      <td>Rw1bWfW2UQ3hXQjWY5TKgQ</td>\n",
       "      <td>uDGQYAIUSne3LKKhTAvKLg</td>\n",
       "      <td>XF7cEaCGuPkt1yuz77jeTQ</td>\n",
       "      <td>5</td>\n",
       "      <td>2018-05-27</td>\n",
       "      <td>A few years back I visited the location on Law...</td>\n",
       "      <td>0</td>\n",
       "      <td>0</td>\n",
       "      <td>0</td>\n",
       "      <td>0.053588</td>\n",
       "    </tr>\n",
       "    <tr>\n",
       "      <th>474801</th>\n",
       "      <td>tq2d5d78ig42XH8CFLKULQ</td>\n",
       "      <td>uDGQYAIUSne3LKKhTAvKLg</td>\n",
       "      <td>aLcFhMe6DDJ430zelCpd2A</td>\n",
       "      <td>4</td>\n",
       "      <td>2015-10-01</td>\n",
       "      <td>On the plus side: Excellent Thai food, good fl...</td>\n",
       "      <td>0</td>\n",
       "      <td>0</td>\n",
       "      <td>0</td>\n",
       "      <td>0.043007</td>\n",
       "    </tr>\n",
       "    <tr>\n",
       "      <th>474802</th>\n",
       "      <td>ulyWlcLQ9CYleyh8lYOKVw</td>\n",
       "      <td>LOUrYMvz-R0YPr0E80gk1A</td>\n",
       "      <td>abIF7pw1Hyu-eVW3LwNhyg</td>\n",
       "      <td>1</td>\n",
       "      <td>2016-02-29</td>\n",
       "      <td>I must admit i have had very bad experience he...</td>\n",
       "      <td>0</td>\n",
       "      <td>0</td>\n",
       "      <td>1</td>\n",
       "      <td>-0.046131</td>\n",
       "    </tr>\n",
       "  </tbody>\n",
       "</table>\n",
       "</div>"
      ],
      "text/plain": [
       "                     review_id                 user_id  \\\n",
       "474798  9YrHtJcAhC6ZNuzp6SGc9w  uDGQYAIUSne3LKKhTAvKLg   \n",
       "474799  jQ0UKnDQUYpRQoJRrzo5Mw  uDGQYAIUSne3LKKhTAvKLg   \n",
       "474800  Rw1bWfW2UQ3hXQjWY5TKgQ  uDGQYAIUSne3LKKhTAvKLg   \n",
       "474801  tq2d5d78ig42XH8CFLKULQ  uDGQYAIUSne3LKKhTAvKLg   \n",
       "474802  ulyWlcLQ9CYleyh8lYOKVw  LOUrYMvz-R0YPr0E80gk1A   \n",
       "\n",
       "                   business_id  stars        date  \\\n",
       "474798  WbS58nfQQZaxWk1BUPBuJQ      4  2017-07-07   \n",
       "474799  hGBdtLUHanbw6rMRoMxUSQ      5  2017-07-07   \n",
       "474800  XF7cEaCGuPkt1yuz77jeTQ      5  2018-05-27   \n",
       "474801  aLcFhMe6DDJ430zelCpd2A      4  2015-10-01   \n",
       "474802  abIF7pw1Hyu-eVW3LwNhyg      1  2016-02-29   \n",
       "\n",
       "                                                     text  useful  funny  \\\n",
       "474798  Delicious food with many healthy options to ch...       0      0   \n",
       "474799  I have never had a hair cut from the person wh...       0      0   \n",
       "474800  A few years back I visited the location on Law...       0      0   \n",
       "474801  On the plus side: Excellent Thai food, good fl...       0      0   \n",
       "474802  I must admit i have had very bad experience he...       0      0   \n",
       "\n",
       "        cool  senti_score  \n",
       "474798     0     0.078622  \n",
       "474799     0     0.004472  \n",
       "474800     0     0.053588  \n",
       "474801     0     0.043007  \n",
       "474802     1    -0.046131  "
      ]
     },
     "execution_count": 8,
     "metadata": {},
     "output_type": "execute_result"
    }
   ],
   "source": [
    "review.tail()"
   ]
  },
  {
   "cell_type": "code",
   "execution_count": 10,
   "metadata": {},
   "outputs": [],
   "source": [
    "review.to_csv('yelp_reviews_sentiment2.csv')"
   ]
  },
  {
   "cell_type": "code",
   "execution_count": 11,
   "metadata": {},
   "outputs": [
    {
     "name": "stdout",
     "output_type": "stream",
     "text": [
      "<class 'pandas.core.frame.DataFrame'>\n",
      "RangeIndex: 474803 entries, 0 to 474802\n",
      "Data columns (total 10 columns):\n",
      "review_id      474803 non-null object\n",
      "user_id        474803 non-null object\n",
      "business_id    474803 non-null object\n",
      "stars          474803 non-null int64\n",
      "date           474803 non-null object\n",
      "text           474803 non-null object\n",
      "useful         474803 non-null int64\n",
      "funny          474803 non-null int64\n",
      "cool           474803 non-null int64\n",
      "senti_score    100000 non-null float64\n",
      "dtypes: float64(1), int64(4), object(5)\n",
      "memory usage: 36.2+ MB\n"
     ]
    }
   ],
   "source": [
    "review.info()"
   ]
  },
  {
   "cell_type": "code",
   "execution_count": 5,
   "metadata": {},
   "outputs": [],
   "source": [
    "df = pd.read_csv('yelp_reviews_sentiment.csv', usecols=[1,2,3,4,5,6,7,8,9,10])"
   ]
  },
  {
   "cell_type": "code",
   "execution_count": 9,
   "metadata": {},
   "outputs": [
    {
     "data": {
      "text/html": [
       "<div>\n",
       "<style scoped>\n",
       "    .dataframe tbody tr th:only-of-type {\n",
       "        vertical-align: middle;\n",
       "    }\n",
       "\n",
       "    .dataframe tbody tr th {\n",
       "        vertical-align: top;\n",
       "    }\n",
       "\n",
       "    .dataframe thead th {\n",
       "        text-align: right;\n",
       "    }\n",
       "</style>\n",
       "<table border=\"1\" class=\"dataframe\">\n",
       "  <thead>\n",
       "    <tr style=\"text-align: right;\">\n",
       "      <th></th>\n",
       "      <th>review_id</th>\n",
       "      <th>user_id</th>\n",
       "      <th>business_id</th>\n",
       "      <th>stars</th>\n",
       "      <th>date</th>\n",
       "      <th>text</th>\n",
       "      <th>useful</th>\n",
       "      <th>funny</th>\n",
       "      <th>cool</th>\n",
       "      <th>senti_score</th>\n",
       "    </tr>\n",
       "  </thead>\n",
       "  <tbody>\n",
       "    <tr>\n",
       "      <th>0</th>\n",
       "      <td>kS4hrhEScwB9V5JATYjvVQ</td>\n",
       "      <td>hxqo4NyJFfeOmuoVi--s1A</td>\n",
       "      <td>f5O7v_X_jCg2itqacRfxhg</td>\n",
       "      <td>5</td>\n",
       "      <td>2017-10-12</td>\n",
       "      <td>Sansotei serves some top notch ramen. They tak...</td>\n",
       "      <td>0</td>\n",
       "      <td>0</td>\n",
       "      <td>0</td>\n",
       "      <td>-0.003640</td>\n",
       "    </tr>\n",
       "    <tr>\n",
       "      <th>1</th>\n",
       "      <td>YDJDfKnx6VpMMo4EBxycGg</td>\n",
       "      <td>FCtoTo9zSH1cSAkascfEHw</td>\n",
       "      <td>7xA6iSP0Ndn08tpBFQtUKA</td>\n",
       "      <td>1</td>\n",
       "      <td>2017-05-22</td>\n",
       "      <td>Non-existened service!  The waiter did not eve...</td>\n",
       "      <td>0</td>\n",
       "      <td>0</td>\n",
       "      <td>0</td>\n",
       "      <td>-0.031863</td>\n",
       "    </tr>\n",
       "    <tr>\n",
       "      <th>2</th>\n",
       "      <td>2Hk7DNwu3rb2jKHaFfPyCA</td>\n",
       "      <td>YHWsLBS8jzZiPjKHMFOaAA</td>\n",
       "      <td>SmizR7MLt-558FJJQRBBoQ</td>\n",
       "      <td>4</td>\n",
       "      <td>2011-06-01</td>\n",
       "      <td>It might be a bit unfair to review Globe so ea...</td>\n",
       "      <td>1</td>\n",
       "      <td>1</td>\n",
       "      <td>1</td>\n",
       "      <td>0.027306</td>\n",
       "    </tr>\n",
       "    <tr>\n",
       "      <th>3</th>\n",
       "      <td>D2TcNaPqXxDGQ6T0n-vHXw</td>\n",
       "      <td>YHWsLBS8jzZiPjKHMFOaAA</td>\n",
       "      <td>iKMLsX1Je7P3wAOEc9scDg</td>\n",
       "      <td>4</td>\n",
       "      <td>2011-11-07</td>\n",
       "      <td>I have been itching to get to Origin for month...</td>\n",
       "      <td>4</td>\n",
       "      <td>0</td>\n",
       "      <td>0</td>\n",
       "      <td>0.015458</td>\n",
       "    </tr>\n",
       "    <tr>\n",
       "      <th>4</th>\n",
       "      <td>Vtd6Tqm7YMfRTBFLtZIoOQ</td>\n",
       "      <td>YHWsLBS8jzZiPjKHMFOaAA</td>\n",
       "      <td>qhJ4GDULYbdb_sctDgbZgw</td>\n",
       "      <td>2</td>\n",
       "      <td>2011-08-20</td>\n",
       "      <td>Alright, alright, so as it turns out I sometim...</td>\n",
       "      <td>0</td>\n",
       "      <td>0</td>\n",
       "      <td>0</td>\n",
       "      <td>0.008468</td>\n",
       "    </tr>\n",
       "  </tbody>\n",
       "</table>\n",
       "</div>"
      ],
      "text/plain": [
       "                review_id                 user_id             business_id  \\\n",
       "0  kS4hrhEScwB9V5JATYjvVQ  hxqo4NyJFfeOmuoVi--s1A  f5O7v_X_jCg2itqacRfxhg   \n",
       "1  YDJDfKnx6VpMMo4EBxycGg  FCtoTo9zSH1cSAkascfEHw  7xA6iSP0Ndn08tpBFQtUKA   \n",
       "2  2Hk7DNwu3rb2jKHaFfPyCA  YHWsLBS8jzZiPjKHMFOaAA  SmizR7MLt-558FJJQRBBoQ   \n",
       "3  D2TcNaPqXxDGQ6T0n-vHXw  YHWsLBS8jzZiPjKHMFOaAA  iKMLsX1Je7P3wAOEc9scDg   \n",
       "4  Vtd6Tqm7YMfRTBFLtZIoOQ  YHWsLBS8jzZiPjKHMFOaAA  qhJ4GDULYbdb_sctDgbZgw   \n",
       "\n",
       "   stars        date                                               text  \\\n",
       "0      5  2017-10-12  Sansotei serves some top notch ramen. They tak...   \n",
       "1      1  2017-05-22  Non-existened service!  The waiter did not eve...   \n",
       "2      4  2011-06-01  It might be a bit unfair to review Globe so ea...   \n",
       "3      4  2011-11-07  I have been itching to get to Origin for month...   \n",
       "4      2  2011-08-20  Alright, alright, so as it turns out I sometim...   \n",
       "\n",
       "   useful  funny  cool  senti_score  \n",
       "0       0      0     0    -0.003640  \n",
       "1       0      0     0    -0.031863  \n",
       "2       1      1     1     0.027306  \n",
       "3       4      0     0     0.015458  \n",
       "4       0      0     0     0.008468  "
      ]
     },
     "execution_count": 9,
     "metadata": {},
     "output_type": "execute_result"
    }
   ],
   "source": [
    "df.head()"
   ]
  },
  {
   "cell_type": "code",
   "execution_count": 16,
   "metadata": {},
   "outputs": [
    {
     "data": {
      "text/plain": [
       "<matplotlib.axes._subplots.AxesSubplot at 0x7fa3d5a05be0>"
      ]
     },
     "execution_count": 16,
     "metadata": {},
     "output_type": "execute_result"
    },
    {
     "data": {
      "image/png": "[encoded data removed]",
      "text/plain": [
       "<Figure size 432x288 with 1 Axes>"
      ]
     },
     "metadata": {
      "needs_background": "light"
     },
     "output_type": "display_data"
    }
   ],
   "source": [
    "sns.scatterplot(x='cool', y='senti_score', data=df)"
   ]
  },
  {
   "cell_type": "code",
   "execution_count": null,
   "metadata": {},
   "outputs": [],
   "source": []
  }
 ],
 "metadata": {
  "kernelspec": {
   "display_name": "Python 3",
   "language": "python",
   "name": "python3"
  },
  "language_info": {
   "codemirror_mode": {
    "name": "ipython",
    "version": 3
   },
   "file_extension": ".py",
   "mimetype": "text/x-python",
   "name": "python",
   "nbconvert_exporter": "python",
   "pygments_lexer": "ipython3",
   "version": "3.7.0"
  }
 },
 "nbformat": 4,
 "nbformat_minor": 2
}
